{
 "cells": [
  {
   "cell_type": "markdown",
   "metadata": {
    "id": "VWY48OqAk8PT"
   },
   "source": [
    "# Practice 1: PYTHON 1"
   ]
  },
  {
   "cell_type": "markdown",
   "metadata": {
    "id": "5BSHzb5jlUHT"
   },
   "source": [
    "Use Jupyter Notebook, Google Colaboratory, or your program of choice to answer the following questions using Python code."
   ]
  },
  {
   "cell_type": "markdown",
   "metadata": {
    "id": "G1g4ugP89VRR"
   },
   "source": [
    "Question 1"
   ]
  },
  {
   "cell_type": "code",
   "execution_count": 9,
   "metadata": {
    "id": "iNDlX-nS9VRW"
   },
   "outputs": [],
   "source": [
    "# Calculate how much money you would have if you compounded $100 at 10% for 8 years"
   ]
  },
  {
   "cell_type": "code",
   "execution_count": 10,
   "metadata": {
    "colab": {
     "base_uri": "https://localhost:8080/",
     "height": 173
    },
    "id": "X33gzQFE9VRW",
    "outputId": "22ac6e9d-11b6-4b1d-a01e-0df34a4a4753"
   },
   "outputs": [
    {
     "data": {
      "text/plain": [
       "214.35888100000017"
      ]
     },
     "execution_count": 10,
     "metadata": {},
     "output_type": "execute_result"
    }
   ],
   "source": [
    "100*1.1**8"
   ]
  },
  {
   "cell_type": "markdown",
   "metadata": {
    "id": "AwC8bLO29VRX"
   },
   "source": [
    "Question 2"
   ]
  },
  {
   "cell_type": "code",
   "execution_count": 11,
   "metadata": {
    "id": "M8RlNjjj9VRY"
   },
   "outputs": [],
   "source": [
    "# Create a variable called “days”. Assign the value “7” to this variable. "
   ]
  },
  {
   "cell_type": "code",
   "execution_count": 12,
   "metadata": {
    "id": "YMc5k_GB9VRY"
   },
   "outputs": [],
   "source": [
    "days=7"
   ]
  },
  {
   "cell_type": "code",
   "execution_count": 13,
   "metadata": {
    "colab": {
     "base_uri": "https://localhost:8080/"
    },
    "id": "DpwZured9VRY",
    "outputId": "b9a4fbe4-f4e3-4d8a-e762-90cdee014218"
   },
   "outputs": [],
   "source": [
    "# Try to execute the following code \n",
    "\n",
    "#print(\"There are \" + days + \" days in a week\")\n",
    "\n",
    "# Rewrite the code to avoid the error"
   ]
  },
  {
   "cell_type": "code",
   "execution_count": 14,
   "metadata": {
    "colab": {
     "base_uri": "https://localhost:8080/"
    },
    "id": "k5UsnwG39VRY",
    "outputId": "f0fc5ed1-d269-4fe9-fec6-b6b61767e2f2"
   },
   "outputs": [
    {
     "name": "stdout",
     "output_type": "stream",
     "text": [
      "There are 7 days in a week\n"
     ]
    }
   ],
   "source": [
    "print(\"There are \" + str(days) + \" days in a week\")"
   ]
  },
  {
   "cell_type": "markdown",
   "metadata": {
    "id": "4AyvmzIaltpb"
   },
   "source": [
    "There are 4 data types in the Python programming language. These data types let you group items into collections with specific properties (that you can then manipulate further later).\n",
    "- **Lists** are a collection which is ordered and changeable. Allows duplicate members.\n",
    "- **Dictionaries** are a collection which are unordered, changeable and indexed. No duplicate\n",
    "members.\n",
    "key应该是单个的，能被hash储存，indexing\n",
    "- **Tuples** are a collection which is ordered and unchangeable. Allows duplicate members.\n",
    "- **Sets** are a collection which is unordered and unindexed. No duplicate members."
   ]
  },
  {
   "cell_type": "markdown",
   "metadata": {
    "id": "YEmc3rxZ9VRZ"
   },
   "source": [
    "Question 3"
   ]
  },
  {
   "cell_type": "code",
   "execution_count": 15,
   "metadata": {
    "id": "Mk7UGefK9VRZ"
   },
   "outputs": [],
   "source": [
    "# Create a list with the following elements [“Tuesday”, “Wednesday”, “Thursday”, “Friday”,\n",
    "# “Saturday”, “Sunday”, 42]. Add the string ‘Someday’ into this list. \n",
    "\n",
    "# Add the variable ‘days’ that you previously created into this list"
   ]
  },
  {
   "cell_type": "code",
   "execution_count": 16,
   "metadata": {
    "id": "CK1US2fs9VRZ"
   },
   "outputs": [],
   "source": [
    "#一般不用list命名，是key words\n",
    "list=['Tuesday','Wednesday','Thursday','Friday','Saturday','Sunday',42]\n",
    "list.append('Someday')\n",
    "list.append(days)"
   ]
  },
  {
   "cell_type": "code",
   "execution_count": 17,
   "metadata": {
    "colab": {
     "base_uri": "https://localhost:8080/"
    },
    "id": "GzZtNVk49VRa",
    "outputId": "00527cee-6610-4179-e22a-789a733909c6",
    "scrolled": false
   },
   "outputs": [
    {
     "data": {
      "text/plain": [
       "['Tuesday',\n",
       " 'Wednesday',\n",
       " 'Thursday',\n",
       " 'Friday',\n",
       " 'Saturday',\n",
       " 'Sunday',\n",
       " 42,\n",
       " 'Someday',\n",
       " 7]"
      ]
     },
     "execution_count": 17,
     "metadata": {},
     "output_type": "execute_result"
    }
   ],
   "source": [
    "list"
   ]
  },
  {
   "cell_type": "code",
   "execution_count": 18,
   "metadata": {
    "id": "DLknd_Ln9VRa"
   },
   "outputs": [],
   "source": [
    "# Create a new variable called ‘sliced_list’, which only contain the first 8 elements of the \n",
    "# first list. Delete the integer ‘42’ from the list. Change the string ‘Someday’ to ‘Monday’"
   ]
  },
  {
   "cell_type": "code",
   "execution_count": 19,
   "metadata": {
    "colab": {
     "base_uri": "https://localhost:8080/"
    },
    "id": "xtRDmxKn9VRa",
    "outputId": "f39362ad-8e1b-415b-c74c-a067101ca4d0"
   },
   "outputs": [
    {
     "data": {
      "text/plain": [
       "['Tuesday', 'Wednesday', 'Thursday', 'Friday', 'Saturday', 'Sunday', 'Monday']"
      ]
     },
     "execution_count": 19,
     "metadata": {},
     "output_type": "execute_result"
    }
   ],
   "source": [
    "sliced_list=list[:8]#包含左，不包含右\n",
    "sliced_list.remove(42)#delete时间复杂度O(n),需要从头找\n",
    "sliced_list[6]='Monday'\n",
    "sliced_list"
   ]
  },
  {
   "cell_type": "markdown",
   "metadata": {
    "id": "tkP_4xzY9VRa"
   },
   "source": [
    "Question 4"
   ]
  },
  {
   "cell_type": "code",
   "execution_count": 20,
   "metadata": {
    "colab": {
     "base_uri": "https://localhost:8080/"
    },
    "id": "MycVW7Uu9VRb",
    "outputId": "626678e8-7b4d-4322-da10-8e40070f633d"
   },
   "outputs": [
    {
     "data": {
      "text/plain": [
       "{'name': ['john', 'mary', 'peter', 'jeff', 'bill', 'lisa', 'jose'],\n",
       " 'age': [23, 78, 22, 19, 45, 33, 20],\n",
       " 'gender': ['M', 'F', 'M', 'M', 'M', 'F', 'M'],\n",
       " 'State': ['california',\n",
       "  'dc',\n",
       "  'california',\n",
       "  'dc',\n",
       "  'california',\n",
       "  'texas',\n",
       "  'texas'],\n",
       " 'num_children': [2, 0, 0, 3, 2, 1, 4]}"
      ]
     },
     "execution_count": 20,
     "metadata": {},
     "output_type": "execute_result"
    }
   ],
   "source": [
    "# Create a dictionary with the following key:value pairs.\n",
    "# 'name':['john','mary','peter','jeff','bill','lisa','jose'],\n",
    "# 'age':[23,78,22,19,45,33,20],\n",
    "# 'gender':['M','F','M','M','M','F','M'],\n",
    "# 'State':['california','dc','california','dc','california','texas','texas'],\n",
    "# 'num_children':[2,0,0,3,2,1,4]\n",
    "dict={\n",
    "    'name':['john','mary','peter','jeff','bill','lisa','jose'],\n",
    "    'age':[23,78,22,19,45,33,20],\n",
    "    'gender':['M','F','M','M','M','F','M'],\n",
    "    'State':['california','dc','california','dc','california','texas','texas'],\n",
    "    'num_children':[2,0,0,3,2,1,4]\n",
    "}\n",
    "dict"
   ]
  },
  {
   "cell_type": "code",
   "execution_count": 21,
   "metadata": {
    "colab": {
     "base_uri": "https://localhost:8080/"
    },
    "id": "eRYIL6cu9VRb",
    "outputId": "eb300274-6876-4067-c056-8e10832acf59"
   },
   "outputs": [
    {
     "data": {
      "text/plain": [
       "{'name': ['john', 'mary', 'peter', 'jeff', 'bill', 'lisa', 'jose'],\n",
       " 'age': [23, 78, 22, 19, 45, 33, 20],\n",
       " 'gender': ['M', 'F', 'M', 'M', 'M', 'F', 'M'],\n",
       " 'State': ['california',\n",
       "  'dc',\n",
       "  'california',\n",
       "  'dc',\n",
       "  'california',\n",
       "  'texas',\n",
       "  'texas'],\n",
       " 'num_children': [2, 0, 0, 3, 2, 1, 4],\n",
       " 'num_pets': [5, 1, 0, 5, 2, 2, 3]}"
      ]
     },
     "execution_count": 21,
     "metadata": {},
     "output_type": "execute_result"
    }
   ],
   "source": [
    "# Add the following key:value pair to the dictionary.\n",
    "# 'num_pets':[5,1,0,5,2,2,3]\n",
    "dict['num_pets']=[5,1,0,5,2,2,3]\n",
    "dict"
   ]
  },
  {
   "cell_type": "markdown",
   "metadata": {
    "id": "QIfaC7FH9VRb"
   },
   "source": [
    "Question 5"
   ]
  },
  {
   "cell_type": "code",
   "execution_count": 22,
   "metadata": {
    "id": "SpSta48y9VRb"
   },
   "outputs": [],
   "source": [
    "# Import the pandas library as pd and the matplotlib.pyplot library as plt. Convert the \n",
    "# dictionary above to a dataframe\n",
    "import pandas as pd\n",
    "import matplotlib.pyplot as plt\n",
    "\n",
    "df=pd.DataFrame(dict)"
   ]
  },
  {
   "cell_type": "code",
   "execution_count": 23,
   "metadata": {
    "colab": {
     "base_uri": "https://localhost:8080/",
     "height": 266
    },
    "id": "wQwnpU-W9VRc",
    "outputId": "9816454a-8d18-4b2c-c294-61bd7eb9f00c"
   },
   "outputs": [
    {
     "data": {
      "text/html": [
       "<div>\n",
       "<style scoped>\n",
       "    .dataframe tbody tr th:only-of-type {\n",
       "        vertical-align: middle;\n",
       "    }\n",
       "\n",
       "    .dataframe tbody tr th {\n",
       "        vertical-align: top;\n",
       "    }\n",
       "\n",
       "    .dataframe thead th {\n",
       "        text-align: right;\n",
       "    }\n",
       "</style>\n",
       "<table border=\"1\" class=\"dataframe\">\n",
       "  <thead>\n",
       "    <tr style=\"text-align: right;\">\n",
       "      <th></th>\n",
       "      <th>name</th>\n",
       "      <th>age</th>\n",
       "      <th>gender</th>\n",
       "      <th>State</th>\n",
       "      <th>num_children</th>\n",
       "      <th>num_pets</th>\n",
       "    </tr>\n",
       "  </thead>\n",
       "  <tbody>\n",
       "    <tr>\n",
       "      <th>0</th>\n",
       "      <td>john</td>\n",
       "      <td>23</td>\n",
       "      <td>M</td>\n",
       "      <td>california</td>\n",
       "      <td>2</td>\n",
       "      <td>5</td>\n",
       "    </tr>\n",
       "    <tr>\n",
       "      <th>1</th>\n",
       "      <td>mary</td>\n",
       "      <td>78</td>\n",
       "      <td>F</td>\n",
       "      <td>dc</td>\n",
       "      <td>0</td>\n",
       "      <td>1</td>\n",
       "    </tr>\n",
       "    <tr>\n",
       "      <th>2</th>\n",
       "      <td>peter</td>\n",
       "      <td>22</td>\n",
       "      <td>M</td>\n",
       "      <td>california</td>\n",
       "      <td>0</td>\n",
       "      <td>0</td>\n",
       "    </tr>\n",
       "    <tr>\n",
       "      <th>3</th>\n",
       "      <td>jeff</td>\n",
       "      <td>19</td>\n",
       "      <td>M</td>\n",
       "      <td>dc</td>\n",
       "      <td>3</td>\n",
       "      <td>5</td>\n",
       "    </tr>\n",
       "    <tr>\n",
       "      <th>4</th>\n",
       "      <td>bill</td>\n",
       "      <td>45</td>\n",
       "      <td>M</td>\n",
       "      <td>california</td>\n",
       "      <td>2</td>\n",
       "      <td>2</td>\n",
       "    </tr>\n",
       "    <tr>\n",
       "      <th>5</th>\n",
       "      <td>lisa</td>\n",
       "      <td>33</td>\n",
       "      <td>F</td>\n",
       "      <td>texas</td>\n",
       "      <td>1</td>\n",
       "      <td>2</td>\n",
       "    </tr>\n",
       "    <tr>\n",
       "      <th>6</th>\n",
       "      <td>jose</td>\n",
       "      <td>20</td>\n",
       "      <td>M</td>\n",
       "      <td>texas</td>\n",
       "      <td>4</td>\n",
       "      <td>3</td>\n",
       "    </tr>\n",
       "  </tbody>\n",
       "</table>\n",
       "</div>"
      ],
      "text/plain": [
       "    name  age gender       State  num_children  num_pets\n",
       "0   john   23      M  california             2         5\n",
       "1   mary   78      F          dc             0         1\n",
       "2  peter   22      M  california             0         0\n",
       "3   jeff   19      M          dc             3         5\n",
       "4   bill   45      M  california             2         2\n",
       "5   lisa   33      F       texas             1         2\n",
       "6   jose   20      M       texas             4         3"
      ]
     },
     "execution_count": 23,
     "metadata": {},
     "output_type": "execute_result"
    }
   ],
   "source": [
    "df"
   ]
  },
  {
   "cell_type": "markdown",
   "metadata": {
    "id": "Qi123IFqEZNj"
   },
   "source": [
    "Question 6\n",
    "\n",
    "\n",
    "Python有两种argument：positional在前 keyword在后"
   ]
  },
  {
   "cell_type": "code",
   "execution_count": 24,
   "metadata": {
    "colab": {
     "base_uri": "https://localhost:8080/",
     "height": 297
    },
    "id": "Eb9NCxBq9VRc",
    "outputId": "b2259955-e600-4a2e-cc9a-df5608a3d736"
   },
   "outputs": [
    {
     "data": {
      "image/png": "[encoded data removed]",
      "text/plain": [
       "<Figure size 432x288 with 1 Axes>"
      ]
     },
     "metadata": {
      "needs_background": "light"
     },
     "output_type": "display_data"
    },
    {
     "data": {
      "text/plain": [
       "<AxesSubplot:xlabel='num_children', ylabel='num_pets'>"
      ]
     },
     "execution_count": 24,
     "metadata": {},
     "output_type": "execute_result"
    },
    {
     "data": {
      "image/png": "[encoded data removed]",
      "text/plain": [
       "<Figure size 432x288 with 1 Axes>"
      ]
     },
     "metadata": {
      "needs_background": "light"
     },
     "output_type": "display_data"
    }
   ],
   "source": [
    "# Plot a scatterplot of 'num_childern' against 'num_pets'\n",
    "x=df['num_children']\n",
    "y=df['num_pets']\n",
    "plt.scatter(x,y)\n",
    "plt.ylabel('num_pets')\n",
    "plt.xlabel('num_children')\n",
    "plt.show()\n",
    "\n",
    "#another way\n",
    "df.plot.scatter('num_children','num_pets')"
   ]
  },
  {
   "cell_type": "markdown",
   "metadata": {
    "id": "RIUV8yWRFHpz"
   },
   "source": [
    "Question 7"
   ]
  },
  {
   "cell_type": "code",
   "execution_count": 25,
   "metadata": {
    "id": "rRodth8O9VRc",
    "outputId": "4780fdcc-98be-4c97-ee46-fb39bd357997"
   },
   "outputs": [
    {
     "data": {
      "image/png": "[encoded data removed]",
      "text/plain": [
       "<Figure size 432x288 with 1 Axes>"
      ]
     },
     "metadata": {
      "needs_background": "light"
     },
     "output_type": "display_data"
    },
    {
     "data": {
      "image/png": "[encoded data removed]",
      "text/plain": [
       "<Figure size 432x288 with 1 Axes>"
      ]
     },
     "metadata": {
      "needs_background": "light"
     },
     "output_type": "display_data"
    }
   ],
   "source": [
    "# Plot a bar plot of 'name' against 'age'\n",
    "x=df['name']\n",
    "y=df['age']\n",
    "plt.bar(x,y,label='age')\n",
    "plt.xlabel('name')\n",
    "plt.ylabel('age')\n",
    "plt.legend(loc='upper right')\n",
    "\n",
    "# another way\n",
    "df.plot.bar('name','age');"
   ]
  },
  {
   "cell_type": "markdown",
   "metadata": {
    "id": "qDekKnK9FLz5"
   },
   "source": [
    "Question 8"
   ]
  },
  {
   "cell_type": "code",
   "execution_count": 26,
   "metadata": {
    "id": "LavXP2C89VRc"
   },
   "outputs": [],
   "source": [
    "# Create a list with the numbers 1 to 10. Write a program to loop through the numbers in \n",
    "# the list and print “odd” if the number is odd and “even” if the number is even."
   ]
  },
  {
   "cell_type": "code",
   "execution_count": 62,
   "metadata": {},
   "outputs": [
    {
     "name": "stdout",
     "output_type": "stream",
     "text": [
      "1 is odd\n",
      "2 is even\n",
      "3 is odd\n",
      "4 is even\n",
      "5 is odd\n",
      "6 is even\n",
      "7 is odd\n",
      "8 is even\n",
      "9 is odd\n",
      "10 is even\n"
     ]
    }
   ],
   "source": [
    "num=[x+1 for x in range(10)]\n",
    "for x in num:\n",
    "    if x%2==0:\n",
    "        print(x, \"is even\" )\n",
    "    else:\n",
    "        print(x, \"is odd\")"
   ]
  },
  {
   "cell_type": "code",
   "execution_count": 28,
   "metadata": {
    "id": "C1cjmY8C9VRd",
    "outputId": "a6f250cb-1b13-48e7-eace-5d59c700b5cc",
    "scrolled": true
   },
   "outputs": [
    {
     "name": "stdout",
     "output_type": "stream",
     "text": [
      "1 is odd\n",
      "2 is even\n",
      "3 is odd\n",
      "4 is even\n",
      "5 is odd\n",
      "6 is even\n",
      "7 is odd\n",
      "8 is even\n",
      "9 is odd\n",
      "10 is even\n"
     ]
    }
   ],
   "source": [
    "num=[x+1 for x in range(10)]\n",
    "parity=[]\n",
    "for i,x in enumerate(num):\n",
    "    if x%2==0:\n",
    "        parity.append('even')\n",
    "    else: \n",
    "        parity.append('odd')\n",
    "    print(f'{x} is {parity[i]}')"
   ]
  },
  {
   "cell_type": "markdown",
   "metadata": {
    "id": "VHLUxv0PmN1W"
   },
   "source": [
    "## PYTHON 2"
   ]
  },
  {
   "cell_type": "markdown",
   "metadata": {
    "id": "VyhUjkoZmS_l"
   },
   "source": [
    "Third-Party Python Libraries\n",
    "\n",
    "a. NumPy (for low-level math operations)\n",
    "\n",
    "b. Pandas (for data loading and manipulation)\n",
    "\n",
    "c. Matplotlib and Seaborn (for data visualization)\n"
   ]
  },
  {
   "cell_type": "markdown",
   "metadata": {
    "id": "QRI37bXcvZKQ"
   },
   "source": [
    "### NumPy"
   ]
  },
  {
   "cell_type": "markdown",
   "metadata": {
    "id": "F8urzRM6o_N6"
   },
   "source": [
    "The purpose of this tutorial is to familiarize with NumPy array creation, its operations like slicing, indexing, transposing and some important mathematical functions.\n",
    "\n",
    "- NumPy is an N-dimensional array type called ndarray.\n",
    "\n",
    "- It describes the collection of items of the same type. Each element in ndarray is\n",
    "an object of data-type object (called dtype)\n",
    "\n",
    "- Images are loaded into NumPy array\n",
    "\n",
    "**1. Create a 1-D NumPy array ‘A’, from list [5 8 10 5 4 3 2 1], check its parameters (ndim, shape, itemsize, dtype)**\n"
   ]
  },
  {
   "cell_type": "code",
   "execution_count": 3,
   "metadata": {
    "colab": {
     "base_uri": "https://localhost:8080/",
     "height": 34
    },
    "id": "2YjtIZL0JVNt",
    "outputId": "b8eb86a4-8f17-48c3-fd33-c95a1562a031"
   },
   "outputs": [
    {
     "name": "stdout",
     "output_type": "stream",
     "text": [
      "ndim= 1\n",
      "shape= (8,)\n",
      "itemsize= 4\n",
      "dtype= int32\n"
     ]
    }
   ],
   "source": [
    "import numpy as np\n",
    "A=np.array([5, 8, 10, 5, 4, 3, 2, 1],dtype=int)\n",
    "print(\"ndim=\", A.ndim)\n",
    "print(\"shape=\", A.shape)\n",
    "print(\"itemsize=\", A.itemsize)\n",
    "print(\"dtype=\",A.dtype)"
   ]
  },
  {
   "cell_type": "markdown",
   "metadata": {
    "id": "gif0QjwmKxMW"
   },
   "source": [
    "**2. Create a 2-D NumPy array ‘B’. Check its parameters \n",
    " B = [[ True False]\n",
    "      [False  True]]**\n"
   ]
  },
  {
   "cell_type": "code",
   "execution_count": 30,
   "metadata": {
    "colab": {
     "base_uri": "https://localhost:8080/",
     "height": 34
    },
    "id": "4usqGh-0J7lr",
    "outputId": "b7bfa033-5401-4e0a-c2e4-c50cbcd0a02e"
   },
   "outputs": [
    {
     "name": "stdout",
     "output_type": "stream",
     "text": [
      "ndim= 2\n",
      "shape= (2, 2)\n",
      "itemsize= 1\n",
      "dtype= bool\n"
     ]
    }
   ],
   "source": [
    "B=np.array([[True,False],[False,True]])\n",
    "print(\"ndim=\", B.ndim)\n",
    "print(\"shape=\", B.shape)\n",
    "print(\"itemsize=\", B.itemsize)\n",
    "print(\"dtype=\",B.dtype)"
   ]
  },
  {
   "cell_type": "markdown",
   "metadata": {
    "id": "uwIkhZxJLQ6p"
   },
   "source": [
    "**3.  Create a 1-D NumPy array ‘C’ of size 1 * 4,  consisting of all ones i.e. \n",
    "        C = [1. 1. 1. 1.]**\n"
   ]
  },
  {
   "cell_type": "code",
   "execution_count": 31,
   "metadata": {
    "colab": {
     "base_uri": "https://localhost:8080/",
     "height": 34
    },
    "id": "5CRVt_k1K54Q",
    "outputId": "63ba3d9c-d980-476f-b723-23178bd9fbd8"
   },
   "outputs": [
    {
     "name": "stdout",
     "output_type": "stream",
     "text": [
      "[1. 1. 1. 1.]\n"
     ]
    }
   ],
   "source": [
    "C=np.ones(4)\n",
    "print(C)"
   ]
  },
  {
   "cell_type": "markdown",
   "metadata": {
    "id": "1ibs4LgRLGg7"
   },
   "source": [
    "**4.  Create a 2-D NumPy array,‘D’ of size 5 * 4, consisting of number from   \n",
    "     0,1,2,3,4….20**\n",
    "     \n",
    "     D =  \n",
    "            [[ 0  1  2  3]\n",
    "             [ 4  5  6  7]\n",
    "             [ 8  9 10 11]\n",
    "             [12 13 14 15]\n",
    "             [16 17 18 19]]"
   ]
  },
  {
   "cell_type": "code",
   "execution_count": 32,
   "metadata": {
    "colab": {
     "base_uri": "https://localhost:8080/",
     "height": 102
    },
    "id": "-kb7x8kPLgwD",
    "outputId": "cfd52114-e735-4d41-cf18-fddf5ddafa4a"
   },
   "outputs": [
    {
     "name": "stdout",
     "output_type": "stream",
     "text": [
      "[[ 0  1  2  3]\n",
      " [ 4  5  6  7]\n",
      " [ 8  9 10 11]\n",
      " [12 13 14 15]\n",
      " [16 17 18 19]]\n"
     ]
    }
   ],
   "source": [
    "D=np.arange(20).reshape(5,4)\n",
    "print(D)"
   ]
  },
  {
   "cell_type": "markdown",
   "metadata": {
    "id": "h_10eDwhLZdc"
   },
   "source": [
    "**5.  Add array ‘C’ to array ‘D’. (You will be doing broadcasting!!)**\n"
   ]
  },
  {
   "cell_type": "code",
   "execution_count": 33,
   "metadata": {
    "colab": {
     "base_uri": "https://localhost:8080/",
     "height": 102
    },
    "id": "Vy_3cDDSLvOK",
    "outputId": "ef0455d2-8183-46f8-f9a5-d041fd7d38c3"
   },
   "outputs": [
    {
     "name": "stdout",
     "output_type": "stream",
     "text": [
      "[[ 1.  2.  3.  4.]\n",
      " [ 5.  6.  7.  8.]\n",
      " [ 9. 10. 11. 12.]\n",
      " [13. 14. 15. 16.]\n",
      " [17. 18. 19. 20.]]\n"
     ]
    }
   ],
   "source": [
    "sum=D+C\n",
    "print(sum)"
   ]
  },
  {
   "cell_type": "markdown",
   "metadata": {
    "id": "d3ygbOhWLuCz"
   },
   "source": [
    "**6.  Transpose the 2-D array ‘D’**"
   ]
  },
  {
   "cell_type": "code",
   "execution_count": 34,
   "metadata": {
    "colab": {
     "base_uri": "https://localhost:8080/",
     "height": 85
    },
    "id": "imVg9qYNL370",
    "outputId": "5eafb4c2-e9ea-42d2-e664-1545f6fbeb71"
   },
   "outputs": [
    {
     "name": "stdout",
     "output_type": "stream",
     "text": [
      "[[ 0  1  2  3]\n",
      " [ 4  5  6  7]\n",
      " [ 8  9 10 11]\n",
      " [12 13 14 15]\n",
      " [16 17 18 19]]\n",
      "[[ 0  4  8 12 16]\n",
      " [ 1  5  9 13 17]\n",
      " [ 2  6 10 14 18]\n",
      " [ 3  7 11 15 19]]\n",
      "[[ 0  4  8 12 16]\n",
      " [ 1  5  9 13 17]\n",
      " [ 2  6 10 14 18]\n",
      " [ 3  7 11 15 19]]\n"
     ]
    }
   ],
   "source": [
    "print(D)\n",
    "print(D.T)\n",
    "print(D.transpose())"
   ]
  },
  {
   "cell_type": "markdown",
   "metadata": {
    "id": "_aHZo_YaL2Xo"
   },
   "source": [
    "**7.  From array ‘D’ use NumPy 2-D slicing to extract below slice\n",
    "        [[ 0  2  4]\n",
    "         [10 12 14]]**\n"
   ]
  },
  {
   "cell_type": "code",
   "execution_count": 35,
   "metadata": {
    "colab": {
     "base_uri": "https://localhost:8080/",
     "height": 170
    },
    "id": "4buv1bSEMUzn",
    "outputId": "b5149bfe-d84a-4c00-e205-35159fc7ed5f"
   },
   "outputs": [
    {
     "name": "stdout",
     "output_type": "stream",
     "text": [
      "[[ 0  1  2  3  4]\n",
      " [ 5  6  7  8  9]\n",
      " [10 11 12 13 14]\n",
      " [15 16 17 18 19]]\n",
      "After slicing operator\n",
      "[[ 0  2  4]\n",
      " [10 12 14]]\n",
      "[[ 0  2  4]\n",
      " [10 12 14]]\n"
     ]
    }
   ],
   "source": [
    "d=D.reshape(4,5)\n",
    "print(d)\n",
    "print('After slicing operator')\n",
    "print(d[0:3:2,0:5:2])\n",
    "print(d[::2,::2])"
   ]
  },
  {
   "cell_type": "markdown",
   "metadata": {
    "id": "SQtJJ9nbL8Yt"
   },
   "source": [
    "**8.  From array ‘D’ extract the corner elements using NumPy Indexing\n",
    "        [[ 0  4]\n",
    "         [15 19]]**"
   ]
  },
  {
   "cell_type": "code",
   "execution_count": 64,
   "metadata": {
    "colab": {
     "base_uri": "https://localhost:8080/",
     "height": 85
    },
    "id": "bc8cqjjKNxnn",
    "outputId": "205c4eec-b2d8-4341-9fa4-37fe8abb03c9"
   },
   "outputs": [
    {
     "name": "stdout",
     "output_type": "stream",
     "text": [
      "[[ 0  1  2  3  4]\n",
      " [ 5  0  0  0  9]\n",
      " [10  0  0  0 14]\n",
      " [15 16 17 18 19]]\n",
      "\n",
      "The corner elements of this array are:    \n",
      " [[ 0  4]\n",
      " [15 19]]\n"
     ]
    }
   ],
   "source": [
    "D.resize(4,5)\n",
    "rows=np.array([[0,0],[3,3]])\n",
    "cols=np.array([[0,4],[0,4]])\n",
    "\n",
    "print(D)\n",
    "print('\\nThe corner elements of this array are:    \\n', D[rows,cols])\n"
   ]
  },
  {
   "cell_type": "markdown",
   "metadata": {
    "id": "bkRwSzqsNvXU"
   },
   "source": [
    "**9. Modify the ‘D’ array to make center elements 0 i.e.**\n",
    " \n",
    " D = \n",
    " \n",
    "          [[ 0  1  2  3  4]          \n",
    "           [ 5  0  0  0  9]\n",
    "           [10  0  0  0  14]\n",
    "           [15 16 17 18 19]]\n"
   ]
  },
  {
   "cell_type": "code",
   "execution_count": 37,
   "metadata": {
    "colab": {
     "base_uri": "https://localhost:8080/",
     "height": 102
    },
    "id": "CfwSkCkZQQWZ",
    "outputId": "21ca71d2-c2ec-4f8d-fd79-0ee14a8f5263"
   },
   "outputs": [
    {
     "name": "stdout",
     "output_type": "stream",
     "text": [
      "Modified D=\n",
      "[[ 0  1  2  3  4]\n",
      " [ 5  0  0  0  9]\n",
      " [10  0  0  0 14]\n",
      " [15 16 17 18 19]]\n"
     ]
    }
   ],
   "source": [
    "D[1:3,1:4]=0\n",
    "print('Modified D=')\n",
    "print(D)"
   ]
  },
  {
   "cell_type": "markdown",
   "metadata": {
    "id": "G6MI-YvhQI_8"
   },
   "source": [
    "**10. Initialize a 4 * 5 numpy array ‘E’ with random numbers. Now find the maximum number in all columns and its position. Find the mean and std of the matrix. Now multiply the matrix ‘E’ and matrix ‘D’.**"
   ]
  },
  {
   "cell_type": "code",
   "execution_count": 38,
   "metadata": {
    "colab": {
     "base_uri": "https://localhost:8080/",
     "height": 238
    },
    "id": "oVnrgMYVQkoQ",
    "outputId": "6d79728d-cc69-448f-9920-d5030a7866b9",
    "scrolled": true
   },
   "outputs": [
    {
     "name": "stdout",
     "output_type": "stream",
     "text": [
      "Matrix E=\n",
      "[[11  6  9 29 17]\n",
      " [20 26  5  9  7]\n",
      " [26 23  3  0 13]\n",
      " [18 16  4  1 27]]\n",
      "Maximum of all columns = \n",
      "[26 26  9 29 27]\n",
      "Mean of all numbers =  13.5\n",
      "STD of all numbers =  9.118662182579197\n"
     ]
    }
   ],
   "source": [
    "E=np.random.randint(30,size=20).reshape(4,5)\n",
    "print('Matrix E=')\n",
    "print(E)\n",
    "print('Maximum of all columns = ')\n",
    "print(E.max(0))#np.amax(E,0)\n",
    "print('Mean of all numbers = ',np.mean(E))\n",
    "print('STD of all numbers = ',np.std(E))"
   ]
  },
  {
   "cell_type": "markdown",
   "metadata": {
    "id": "Z2AYOTUXQiE6"
   },
   "source": [
    "**11. Load an image(sample.png provided) into numpy array. Commands to load an image to numpy array is ‘import cv2; img = cv2.imread('sample.jpg')’. Now extract a 100*100 matrix from the image and show it with matplotlib. Command to show an image:‘from matplotlib import pyplot as plt; plt.imshow(img)’**"
   ]
  },
  {
   "cell_type": "code",
   "execution_count": 39,
   "metadata": {
    "id": "EBjrwCxk3eB1"
   },
   "outputs": [
    {
     "name": "stderr",
     "output_type": "stream",
     "text": [
      "'wget' 不是内部或外部命令，也不是可运行的程序\n",
      "或批处理文件。\n"
     ]
    }
   ],
   "source": [
    "!wget https://www.comp.nus.edu.sg/~kai422/CS5242/sample.jpg"
   ]
  },
  {
   "cell_type": "code",
   "execution_count": 4,
   "metadata": {
    "colab": {
     "base_uri": "https://localhost:8080/",
     "height": 254
    },
    "id": "qHuhFsTEUfdh",
    "outputId": "f2dc59cd-a001-4818-a5a5-bb9ed6f4bced"
   },
   "outputs": [
    {
     "name": "stdout",
     "output_type": "stream",
     "text": [
      "Type of image =  <class 'numpy.ndarray'>\n",
      "Size of image =  (241, 320, 3)\n"
     ]
    },
    {
     "data": {
      "text/plain": [
       "<matplotlib.image.AxesImage at 0x1b909142e50>"
      ]
     },
     "execution_count": 4,
     "metadata": {},
     "output_type": "execute_result"
    },
    {
     "data": {
      "image/png": "[encoded data removed]",
      "text/plain": [
       "<Figure size 432x288 with 2 Axes>"
      ]
     },
     "metadata": {
      "needs_background": "light"
     },
     "output_type": "display_data"
    }
   ],
   "source": [
    "import cv2\n",
    "from matplotlib import pyplot as plt \n",
    "\n",
    "img = cv2.imread('sample.jpg')\n",
    "print(\"Type of image = \", type(img))\n",
    "print(\"Size of image = \", img.shape)\n",
    "\n",
    "plt.subplot(121)\n",
    "plt.imshow(img)\n",
    "#print('Type of image:',img.type)\n",
    "#img=img[:100,:100]\n",
    "plt.subplot(122)\n",
    "plt.imshow(img[:100,:100])"
   ]
  },
  {
   "cell_type": "markdown",
   "metadata": {
    "id": "FV09_vuQTmLU"
   },
   "source": [
    "### Pandas"
   ]
  },
  {
   "cell_type": "markdown",
   "metadata": {
    "id": "IpX5uwKVpHRC"
   },
   "source": [
    "- There are two central data structures of Pandas are Series and DataFrame\n",
    "\n",
    "- Foundation of a DataFrame is a Series. The docstring of DataFrame defines a\n",
    "DataFrame as “Can be thought of as a dict-like container for\n",
    "Series objects”\n",
    "\n",
    "- So what is a series? A Pandas series can be conceptualized in two ways.\n",
    "\n",
    "  - It can be envisioned as a single column of tabular data.\n",
    "\n",
    "  - It can also be envisioned as a single row of tabular data\n",
    "\n",
    "Let’s assume there is a database table called accounting which stores revenue and expenses across different years.\n",
    "\n",
    "| year | revenue | expense |\n",
    "| :--: | :-----: | :-----: |\n",
    "| 2017 | 1000    | 800     |\n",
    "| 2018 | 1200    | 900     |\n",
    "| 2019 | 1500    | 1100    |\n",
    "\n",
    "**1.Create the table above with Pandas dataframe object**"
   ]
  },
  {
   "cell_type": "code",
   "execution_count": 41,
   "metadata": {
    "colab": {
     "base_uri": "https://localhost:8080/"
    },
    "id": "CfFquWEaVTA7",
    "outputId": "91f44eb5-af6f-42e6-ce09-a0a51c659316"
   },
   "outputs": [
    {
     "data": {
      "text/html": [
       "<div>\n",
       "<style scoped>\n",
       "    .dataframe tbody tr th:only-of-type {\n",
       "        vertical-align: middle;\n",
       "    }\n",
       "\n",
       "    .dataframe tbody tr th {\n",
       "        vertical-align: top;\n",
       "    }\n",
       "\n",
       "    .dataframe thead th {\n",
       "        text-align: right;\n",
       "    }\n",
       "</style>\n",
       "<table border=\"1\" class=\"dataframe\">\n",
       "  <thead>\n",
       "    <tr style=\"text-align: right;\">\n",
       "      <th></th>\n",
       "      <th>year</th>\n",
       "      <th>revenue</th>\n",
       "      <th>expense</th>\n",
       "    </tr>\n",
       "  </thead>\n",
       "  <tbody>\n",
       "    <tr>\n",
       "      <th>0</th>\n",
       "      <td>2017</td>\n",
       "      <td>1000</td>\n",
       "      <td>800</td>\n",
       "    </tr>\n",
       "    <tr>\n",
       "      <th>1</th>\n",
       "      <td>2018</td>\n",
       "      <td>1200</td>\n",
       "      <td>900</td>\n",
       "    </tr>\n",
       "    <tr>\n",
       "      <th>2</th>\n",
       "      <td>2019</td>\n",
       "      <td>1500</td>\n",
       "      <td>1100</td>\n",
       "    </tr>\n",
       "  </tbody>\n",
       "</table>\n",
       "</div>"
      ],
      "text/plain": [
       "   year  revenue  expense\n",
       "0  2017     1000      800\n",
       "1  2018     1200      900\n",
       "2  2019     1500     1100"
      ]
     },
     "execution_count": 41,
     "metadata": {},
     "output_type": "execute_result"
    }
   ],
   "source": [
    "import pandas as pd\n",
    "\n",
    "df=pd.DataFrame(\n",
    "    {\n",
    "        'year':[2017,2018,2019],\n",
    "        'revenue':[1000,1200,1500],\n",
    "        'expense':[800,900,1100]\n",
    "    }\n",
    ")\n",
    "\n",
    "df"
   ]
  },
  {
   "cell_type": "markdown",
   "metadata": {
    "id": "qoJiToubTzxz"
   },
   "source": [
    "**2.Modify the above table to add  ‘savings’ and ‘persons’ as shown below.\n",
    "‘saving’ = ‘revenue’ - ‘expenses’**\n"
   ]
  },
  {
   "cell_type": "code",
   "execution_count": 42,
   "metadata": {
    "colab": {
     "base_uri": "https://localhost:8080/"
    },
    "id": "zYOQcI_zV6HD",
    "outputId": "e092075f-06e4-48c8-f1dd-5b2ee7eb0a91"
   },
   "outputs": [
    {
     "data": {
      "text/html": [
       "<div>\n",
       "<style scoped>\n",
       "    .dataframe tbody tr th:only-of-type {\n",
       "        vertical-align: middle;\n",
       "    }\n",
       "\n",
       "    .dataframe tbody tr th {\n",
       "        vertical-align: top;\n",
       "    }\n",
       "\n",
       "    .dataframe thead th {\n",
       "        text-align: right;\n",
       "    }\n",
       "</style>\n",
       "<table border=\"1\" class=\"dataframe\">\n",
       "  <thead>\n",
       "    <tr style=\"text-align: right;\">\n",
       "      <th></th>\n",
       "      <th>year</th>\n",
       "      <th>revenue</th>\n",
       "      <th>expense</th>\n",
       "      <th>saving</th>\n",
       "      <th>persons</th>\n",
       "    </tr>\n",
       "  </thead>\n",
       "  <tbody>\n",
       "    <tr>\n",
       "      <th>0</th>\n",
       "      <td>2017</td>\n",
       "      <td>1000</td>\n",
       "      <td>800</td>\n",
       "      <td>200</td>\n",
       "      <td>abc</td>\n",
       "    </tr>\n",
       "    <tr>\n",
       "      <th>1</th>\n",
       "      <td>2018</td>\n",
       "      <td>1200</td>\n",
       "      <td>900</td>\n",
       "      <td>300</td>\n",
       "      <td>def</td>\n",
       "    </tr>\n",
       "    <tr>\n",
       "      <th>2</th>\n",
       "      <td>2019</td>\n",
       "      <td>1500</td>\n",
       "      <td>1100</td>\n",
       "      <td>400</td>\n",
       "      <td>ghi</td>\n",
       "    </tr>\n",
       "  </tbody>\n",
       "</table>\n",
       "</div>"
      ],
      "text/plain": [
       "   year  revenue  expense  saving persons\n",
       "0  2017     1000      800     200     abc\n",
       "1  2018     1200      900     300     def\n",
       "2  2019     1500     1100     400     ghi"
      ]
     },
     "execution_count": 42,
     "metadata": {},
     "output_type": "execute_result"
    }
   ],
   "source": [
    "df['saving']=df['revenue']-df['expense']\n",
    "df['persons']=['abc','def','ghi']\n",
    "df"
   ]
  },
  {
   "cell_type": "markdown",
   "metadata": {
    "id": "9_LTzfEbUUiA"
   },
   "source": [
    "**3.Load a CSV file (tips.csv provided) to load a CSV file into a pandas dataframe.\n",
    "Now display .head() of dataframe. Then display .description() of dataframe. Name this dataframe as ‘tips_table’. Sample .head() of tips table.**\n"
   ]
  },
  {
   "cell_type": "code",
   "execution_count": 43,
   "metadata": {
    "id": "2vkgUkq-CG7j"
   },
   "outputs": [
    {
     "name": "stderr",
     "output_type": "stream",
     "text": [
      "'wget' 不是内部或外部命令，也不是可运行的程序\n",
      "或批处理文件。\n"
     ]
    }
   ],
   "source": [
    "!wget https://www.comp.nus.edu.sg/~kai422/CS5242/tips.csv"
   ]
  },
  {
   "cell_type": "code",
   "execution_count": 5,
   "metadata": {
    "colab": {
     "base_uri": "https://localhost:8080/",
     "height": 204
    },
    "id": "BN779NqALA01",
    "outputId": "89015b5f-5de8-4b84-eea1-b9f4b7df8de9"
   },
   "outputs": [
    {
     "name": "stdout",
     "output_type": "stream",
     "text": [
      "   total_bill   tip     sex smoker  day    time  size\n",
      "0       16.99  1.01  Female     No  Sun  Dinner     2\n",
      "1       10.34  1.66    Male     No  Sun  Dinner     3\n",
      "2       21.01  3.50    Male     No  Sun  Dinner     3\n",
      "3       23.68  3.31    Male     No  Sun  Dinner     2\n",
      "4       24.59  3.61  Female     No  Sun  Dinner     4\n",
      "       total_bill         tip        size\n",
      "count  244.000000  244.000000  244.000000\n",
      "mean    19.785943    2.998279    2.569672\n",
      "std      8.902412    1.383638    0.951100\n",
      "min      3.070000    1.000000    1.000000\n",
      "25%     13.347500    2.000000    2.000000\n",
      "50%     17.795000    2.900000    2.000000\n",
      "75%     24.127500    3.562500    3.000000\n",
      "max     50.810000   10.000000    6.000000\n"
     ]
    }
   ],
   "source": [
    "import pandas as pd\n",
    "tips_table=pd.read_csv('https://www.comp.nus.edu.sg/~kai422/CS5242/tips.csv')\n",
    "print(tips_table.head())\n",
    "print(tips_table.describe())"
   ]
  },
  {
   "cell_type": "markdown",
   "metadata": {
    "id": "0AyIlH4QwYX2"
   },
   "source": [
    "### MATPLOTLIB and SEABORN"
   ]
  },
  {
   "cell_type": "markdown",
   "metadata": {
    "id": "oIPgSZVhqhQ5"
   },
   "source": [
    "- Seaborn is built on top of Python’s core visualization library Matplotlib.\n",
    "\n",
    "- It is meant to serve as a complement, and not a replacement.\n",
    "\n",
    "- Seaborn works well with NumPy and Pandas data structures\n",
    "\n",
    "**Write a program to draw a scatter_plot with sb.scatterplot taking ‘total_bill’ as x-axis,‘tip’ as y-axis and hue as ‘time’**"
   ]
  },
  {
   "cell_type": "code",
   "execution_count": 45,
   "metadata": {
    "colab": {
     "base_uri": "https://localhost:8080/",
     "height": 301
    },
    "id": "OkgwfofgUtnc",
    "outputId": "babc144e-97a0-478b-debe-dcc34aa8f46f"
   },
   "outputs": [
    {
     "data": {
      "text/plain": [
       "<AxesSubplot:xlabel='total_bill', ylabel='tip'>"
      ]
     },
     "execution_count": 45,
     "metadata": {},
     "output_type": "execute_result"
    },
    {
     "data": {
      "image/png": "[encoded data removed]",
      "text/plain": [
       "<Figure size 432x288 with 1 Axes>"
      ]
     },
     "metadata": {
      "needs_background": "light"
     },
     "output_type": "display_data"
    }
   ],
   "source": [
    "import matplotlib.pyplot as plt\n",
    "import seaborn as sb\n",
    "sb.scatterplot(data=tips_table,x='total_bill',y='tip',hue='time')"
   ]
  },
  {
   "cell_type": "markdown",
   "metadata": {
    "id": "VIMKTdliVMIL"
   },
   "source": [
    "**Write a program to plot a pie chart of given ‘days’ data in ‘tips_table’ table.**\n"
   ]
  },
  {
   "cell_type": "code",
   "execution_count": 9,
   "metadata": {
    "colab": {
     "base_uri": "https://localhost:8080/",
     "height": 391
    },
    "id": "tSob3JtuU6Ti",
    "outputId": "784cf4c3-52fa-44ce-d003-29db65746b5c"
   },
   "outputs": [
    {
     "data": {
      "text/plain": [
       "([<matplotlib.patches.Wedge at 0x1b90a37cf40>,\n",
       "  <matplotlib.patches.Wedge at 0x1b90a38a520>,\n",
       "  <matplotlib.patches.Wedge at 0x1b90a38a9a0>,\n",
       "  <matplotlib.patches.Wedge at 0x1b90a38ae20>],\n",
       " [Text(1.067249117636926, 0.26641944542995116, 'Fri'),\n",
       "  Text(-0.0424781378919457, 1.099179515730362, 'Sat'),\n",
       "  Text(-0.9281531828592479, -0.5903657079711253, 'Sun'),\n",
       "  Text(0.7677384348219162, -0.787767539123817, 'Thur')])"
      ]
     },
     "execution_count": 9,
     "metadata": {},
     "output_type": "execute_result"
    },
    {
     "data": {
      "image/png": "[encoded data removed]",
      "text/plain": [
       "<Figure size 432x288 with 2 Axes>"
      ]
     },
     "metadata": {},
     "output_type": "display_data"
    }
   ],
   "source": [
    "import matplotlib.pyplot as plt\n",
    "sums = tips_table['day'].value_counts()\n",
    "plt.subplot(121)\n",
    "plt.pie(sums, labels=sums.index)\n",
    "\n",
    "plt.subplot(122)\n",
    "df=tips_table.groupby('day')['tip'].count()\n",
    "plt.pie(df,labels=['Fri','Sat','Sun','Thur'])"
   ]
  },
  {
   "cell_type": "markdown",
   "metadata": {
    "id": "odQSOTmFX8OK"
   },
   "source": [
    "**Plot a bar plot with sb.barplot taking ‘sex’ in x-axis and ‘total_bill’ in y-axis**"
   ]
  },
  {
   "cell_type": "code",
   "execution_count": 47,
   "metadata": {
    "colab": {
     "base_uri": "https://localhost:8080/",
     "height": 300
    },
    "id": "OqnUfnIoVX92",
    "outputId": "ed4c6303-cc4d-4e79-c357-0726a2895da4",
    "scrolled": true
   },
   "outputs": [
    {
     "data": {
      "text/plain": [
       "<AxesSubplot:xlabel='sex', ylabel='total_bill'>"
      ]
     },
     "execution_count": 47,
     "metadata": {},
     "output_type": "execute_result"
    },
    {
     "data": {
      "image/png": "[encoded data removed]",
      "text/plain": [
       "<Figure size 432x288 with 1 Axes>"
      ]
     },
     "metadata": {
      "needs_background": "light"
     },
     "output_type": "display_data"
    }
   ],
   "source": [
    "sb.barplot(data=tips_table,x='sex',y='total_bill')"
   ]
  },
  {
   "cell_type": "markdown",
   "metadata": {
    "id": "FZCBQrDUYvaR"
   },
   "source": [
    "**Plot the univariate distribution of various data in the ‘tips_table’ table with sb.distplot.**"
   ]
  },
  {
   "cell_type": "code",
   "execution_count": 13,
   "metadata": {
    "colab": {
     "base_uri": "https://localhost:8080/",
     "height": 301
    },
    "id": "NTEimxCqYIoc",
    "outputId": "34125cde-2d5b-4471-b0b8-5e5145a3ed55"
   },
   "outputs": [
    {
     "name": "stderr",
     "output_type": "stream",
     "text": [
      "D:\\Users\\Wen\\miniconda3\\envs\\torch\\lib\\site-packages\\seaborn\\distributions.py:2557: FutureWarning: `distplot` is a deprecated function and will be removed in a future version. Please adapt your code to use either `displot` (a figure-level function with similar flexibility) or `histplot` (an axes-level function for histograms).\n",
      "  warnings.warn(msg, FutureWarning)\n"
     ]
    },
    {
     "data": {
      "text/plain": [
       "<AxesSubplot:xlabel='total_bill', ylabel='Count'>"
      ]
     },
     "execution_count": 13,
     "metadata": {},
     "output_type": "execute_result"
    },
    {
     "data": {
      "image/png": "[encoded data removed]",
      "text/plain": [
       "<Figure size 432x288 with 1 Axes>"
      ]
     },
     "metadata": {
      "needs_background": "light"
     },
     "output_type": "display_data"
    },
    {
     "data": {
      "image/png": "[encoded data removed]",
      "text/plain": [
       "<Figure size 360x360 with 2 Axes>"
      ]
     },
     "metadata": {
      "needs_background": "light"
     },
     "output_type": "display_data"
    }
   ],
   "source": [
    "import seaborn as sb\n",
    "plt.subplot(311)\n",
    "#sb.displot(tips_table,x='total_bill')\n",
    "sb.displot(tips_table['total_bill'], kde=True, stat='density')\n",
    "plt.subplot(312)\n",
    "sb.distplot(tips_table['total_bill'])\n",
    "plt.subplot(313)\n",
    "sb.histplot(data=tips_table,x='total_bill',kde=True)#平滑曲线连接\n"
   ]
  },
  {
   "cell_type": "code",
   "execution_count": 12,
   "metadata": {},
   "outputs": [
    {
     "data": {
      "text/plain": [
       "<seaborn.axisgrid.FacetGrid at 0x1b90c31aee0>"
      ]
     },
     "execution_count": 12,
     "metadata": {},
     "output_type": "execute_result"
    },
    {
     "data": {
      "image/png": "[encoded data removed]",
      "text/plain": [
       "<Figure size 360x360 with 1 Axes>"
      ]
     },
     "metadata": {
      "needs_background": "light"
     },
     "output_type": "display_data"
    }
   ],
   "source": [
    "sb.displot(tips_table['total_bill'], kde=True, stat='density')"
   ]
  },
  {
   "cell_type": "markdown",
   "metadata": {
    "id": "PX8jRmaLYrGY"
   },
   "source": [
    "**Plot the bivariate  distribution of data ‘total_bill’ vs ‘tip’ with sb.jointplot()** 二元和一元结合的图"
   ]
  },
  {
   "cell_type": "code",
   "execution_count": 49,
   "metadata": {
    "colab": {
     "base_uri": "https://localhost:8080/",
     "height": 458
    },
    "id": "SkRVTWC7YRgZ",
    "outputId": "94505407-43b7-4f4d-9257-a46d30fb7ba4"
   },
   "outputs": [
    {
     "data": {
      "text/plain": [
       "<seaborn.axisgrid.JointGrid at 0x1f796efa490>"
      ]
     },
     "execution_count": 49,
     "metadata": {},
     "output_type": "execute_result"
    },
    {
     "data": {
      "image/png": "[encoded data removed]",
      "text/plain": [
       "<Figure size 432x432 with 3 Axes>"
      ]
     },
     "metadata": {
      "needs_background": "light"
     },
     "output_type": "display_data"
    }
   ],
   "source": [
    "sb.jointplot(data=tips_table,x='total_bill',y='tip')"
   ]
  },
  {
   "cell_type": "markdown",
   "metadata": {
    "id": "tUizza6aZJQo"
   },
   "source": [
    "**To analyse relation between each and every data of the table to classify ‘time’ class try using\n",
    "sb.pairplot(tips_table, hue=’time’)**"
   ]
  },
  {
   "cell_type": "code",
   "execution_count": 50,
   "metadata": {
    "colab": {
     "base_uri": "https://localhost:8080/",
     "height": 566
    },
    "id": "vA9BYM9aY-f3",
    "outputId": "faa40bc4-b026-436c-c37f-b4909a293012"
   },
   "outputs": [
    {
     "data": {
      "text/plain": [
       "[\"'!3*3不对' 不是内部或外部命令，也不是可运行的程序\", '或批处理文件。']"
      ]
     },
     "execution_count": 50,
     "metadata": {},
     "output_type": "execute_result"
    },
    {
     "data": {
      "image/png": "[encoded data removed]",
      "text/plain": [
       "<Figure size 609.625x540 with 12 Axes>"
      ]
     },
     "metadata": {
      "needs_background": "light"
     },
     "output_type": "display_data"
    }
   ],
   "source": [
    "sb.pairplot(tips_table, hue='time')\n",
    "!!!3*3不对"
   ]
  },
  {
   "cell_type": "markdown",
   "metadata": {
    "id": "6l6wFzfHZv0F"
   },
   "source": [
    "**To analyse the relation of categorical data try to plot using sb.stripplot with ‘day’ as x, and ‘total_bill’ as y**"
   ]
  },
  {
   "cell_type": "code",
   "execution_count": 51,
   "metadata": {
    "colab": {
     "base_uri": "https://localhost:8080/",
     "height": 300
    },
    "id": "GXALrCGtZR11",
    "outputId": "c8d916ec-921c-461c-92a2-f83891bb9da5"
   },
   "outputs": [
    {
     "data": {
      "text/plain": [
       "<AxesSubplot:xlabel='day', ylabel='total_bill'>"
      ]
     },
     "execution_count": 51,
     "metadata": {},
     "output_type": "execute_result"
    },
    {
     "data": {
      "image/png": "[encoded data removed]",
      "text/plain": [
       "<Figure size 432x288 with 1 Axes>"
      ]
     },
     "metadata": {
      "needs_background": "light"
     },
     "output_type": "display_data"
    }
   ],
   "source": [
    "sb.stripplot(data=tips_table,x='day',y='total_bill')"
   ]
  },
  {
   "cell_type": "markdown",
   "metadata": {
    "id": "NQPEquNwnR1_"
   },
   "source": [
    "## PYTORCH TENSORS"
   ]
  },
  {
   "cell_type": "markdown",
   "metadata": {
    "id": "lR05D7BXo9UV"
   },
   "source": [
    "WHAT IS PYTORCH?\n",
    "It’s a Python-based scientific computing package targeted at two sets of audiences:\n",
    "\n",
    "- A replacement for NumPy to use the power of GPUs\n",
    "- A deep learning research platform that provides maximum flexibility and speed\n",
    "\n",
    "**Tensors**\n",
    "Tensors are similar to NumPy’s ndarrays, with the addition being that Tensors can also be used on a GPU to accelerate computing.\n"
   ]
  },
  {
   "cell_type": "code",
   "execution_count": 14,
   "metadata": {
    "id": "KuHI9cGDvNaP"
   },
   "outputs": [],
   "source": [
    "# Run some setup code for this notebook.\n",
    "\n",
    "import random\n",
    "import numpy as np\n",
    "import matplotlib.pyplot as plt\n",
    "\n",
    "# This is a bit of magic to make matplotlib figures appear inline in the notebook\n",
    "# rather than in a new window.\n",
    "%matplotlib inline\n",
    "plt.rcParams['figure.figsize'] = (10.0, 8.0) # set default size of plots\n",
    "plt.rcParams['image.interpolation'] = 'nearest'\n",
    "plt.rcParams['image.cmap'] = 'gray'\n",
    "\n",
    "# Some more magic so that the notebook will reload external python modules;\n",
    "# see http://stackoverflow.com/questions/1907993/autoreload-of-modules-in-ipython\n",
    "%load_ext autoreload\n",
    "%autoreload 2\n",
    "import torch\n",
    "import torch.nn as nn"
   ]
  },
  {
   "cell_type": "markdown",
   "metadata": {
    "id": "eXVqMj2SUzA6"
   },
   "source": [
    "Q1. Create a tensor “a” initialized from the list [2, 5, 8, 9]. Now print attributes of tensor  “a” i.e shape, dtype, device. Convert it to Numpy array “e”. \n"
   ]
  },
  {
   "cell_type": "code",
   "execution_count": 53,
   "metadata": {
    "colab": {
     "base_uri": "https://localhost:8080/",
     "height": 34
    },
    "id": "cLOvK7mapC0H",
    "outputId": "3e84434d-5075-4c18-bd49-fb02249a8e4a"
   },
   "outputs": [
    {
     "name": "stdout",
     "output_type": "stream",
     "text": [
      "a:tensor([2, 5, 8, 9])\n",
      "torch.Size([4])\n",
      "torch.int64\n",
      "cpu\n",
      "e:[2 5 8 9]\n"
     ]
    }
   ],
   "source": [
    "a=torch.tensor([2,5,8,9])\n",
    "print(f'a:{a}')\n",
    "print(a.shape)\n",
    "print(a.dtype)\n",
    "print(a.device)\n",
    "e=a.numpy()\n",
    "print(f'e:{e}')"
   ]
  },
  {
   "cell_type": "markdown",
   "metadata": {
    "id": "iUDKczOZVJbN"
   },
   "source": [
    "Q2. Create a tensor “b” of size 4 * 5 initialized with all 0’s. Add 2 to “b”. Create another tensor “c” of the exact same as “b” initialized with all ones. Now create tensor “d = b + c”."
   ]
  },
  {
   "cell_type": "code",
   "execution_count": 54,
   "metadata": {
    "colab": {
     "base_uri": "https://localhost:8080/",
     "height": 118
    },
    "id": "Z1VS_ed6s8k7",
    "outputId": "a6e7f5d6-d3e8-413a-c52f-5db11f913a0c"
   },
   "outputs": [
    {
     "name": "stdout",
     "output_type": "stream",
     "text": [
      "Shape of b: torch.Size([4, 5])\n",
      "b: tensor([[0., 0., 0., 0., 0.],\n",
      "        [0., 0., 0., 0., 0.],\n",
      "        [0., 0., 0., 0., 0.],\n",
      "        [0., 0., 0., 0., 0.]])\n"
     ]
    }
   ],
   "source": [
    "b=torch.zeros(4,5)\n",
    "print('Shape of b:',b.shape)\n",
    "print('b:',b)\n"
   ]
  },
  {
   "cell_type": "code",
   "execution_count": 55,
   "metadata": {
    "colab": {
     "base_uri": "https://localhost:8080/",
     "height": 185
    },
    "id": "artoyXDCuLIh",
    "outputId": "394b76c9-9ae2-4e0e-c9fd-851fc3216119"
   },
   "outputs": [
    {
     "name": "stdout",
     "output_type": "stream",
     "text": [
      "Print actual c:\n",
      " tensor([[1., 1., 1., 1., 1.],\n",
      "        [1., 1., 1., 1., 1.],\n",
      "        [1., 1., 1., 1., 1.],\n",
      "        [1., 1., 1., 1., 1.]])\n",
      "Shape of d: torch.Size([4, 5])\n",
      "Print actual d:\n",
      " tensor([[3., 3., 3., 3., 3.],\n",
      "        [3., 3., 3., 3., 3.],\n",
      "        [3., 3., 3., 3., 3.],\n",
      "        [3., 3., 3., 3., 3.]])\n"
     ]
    }
   ],
   "source": [
    "b.add_(2)\n",
    "c=torch.ones(4,5)\n",
    "print('Print actual c:\\n',c)\n",
    "d=b+c\n",
    "print('Shape of d:',d.shape)\n",
    "print('Print actual d:\\n',d)"
   ]
  },
  {
   "cell_type": "markdown",
   "metadata": {
    "id": "pa2A2x8XVSa0"
   },
   "source": [
    "Q3. Create a Numpy array “f” of size 5 * 4 initialized with random numbers. Convert it to tensor “g”. Create “h” similar to “f” with random numbers. Transpose “h” and do matrix multiplication of “h” and “f”."
   ]
  },
  {
   "cell_type": "code",
   "execution_count": 56,
   "metadata": {
    "colab": {
     "base_uri": "https://localhost:8080/",
     "height": 437
    },
    "id": "ZRv-YJcHqyv2",
    "outputId": "502de226-0d3f-42d1-a359-ce59cf774c4e"
   },
   "outputs": [
    {
     "name": "stdout",
     "output_type": "stream",
     "text": [
      "f:\n",
      " [[ 5.82280653e-01 -3.50449120e-03 -2.06758582e+00 -1.17457064e+00]\n",
      " [ 1.06883800e+00 -4.67104825e-01 -9.43524997e-01  8.38289925e-01]\n",
      " [-5.69063417e-01 -2.89499468e-01 -1.40262418e+00  1.23170875e-01]\n",
      " [ 5.19786860e-01  1.78250886e-02 -6.25421965e-01  3.79194954e+00]\n",
      " [-1.27960602e+00  1.42024482e+00  4.21682423e-02 -1.04633830e+00]]\n",
      "g:\n",
      " tensor([[ 5.8228e-01, -3.5045e-03, -2.0676e+00, -1.1746e+00],\n",
      "        [ 1.0688e+00, -4.6710e-01, -9.4352e-01,  8.3829e-01],\n",
      "        [-5.6906e-01, -2.8950e-01, -1.4026e+00,  1.2317e-01],\n",
      "        [ 5.1979e-01,  1.7825e-02, -6.2542e-01,  3.7919e+00],\n",
      "        [-1.2796e+00,  1.4202e+00,  4.2168e-02, -1.0463e+00]],\n",
      "       dtype=torch.float64)\n",
      "h:\n",
      " tensor([[0.0958, 0.2741, 0.6801, 0.4593],\n",
      "        [0.7320, 0.5639, 0.9527, 0.3286],\n",
      "        [0.0110, 0.1239, 0.9786, 0.9523],\n",
      "        [0.2221, 0.9419, 0.9622, 0.0747],\n",
      "        [0.9860, 0.0018, 0.8693, 0.0707]], dtype=torch.float64)\n",
      "matrix multiplication h*f=\n",
      " tensor([[-0.3143,  1.0588, -1.0015,  0.3129],\n",
      "        [ 1.1791, -0.2809, -1.8615,  3.7359],\n",
      "        [ 0.2451,  0.5211, -4.2428,  2.8592],\n",
      "        [ 0.0251, -0.3290, -2.6392,  0.0627]], dtype=torch.float64)\n"
     ]
    }
   ],
   "source": [
    "f=np.random.normal(size=20).reshape(5,4)\n",
    "#f = np.random.randn(20).reshape((5, 4))\n",
    "print('f:\\n',f)\n",
    "g=torch.from_numpy(f)\n",
    "print('g:\\n',g)\n",
    "h=torch.randn_like(g)\n",
    "print('h:\\n',h)\n",
    "print('matrix multiplication h*f=\\n',h.T@f)"
   ]
  },
  {
   "cell_type": "markdown",
   "metadata": {
    "id": "3OGOS7DnzlT3"
   },
   "source": [
    "Q4. Deep Learning is based on artificial neural networks which are typically built with units called \"neurons”. Each neuron has some number of weighted inputs. These weighted inputs are summed together then passed through an activation function to get the unit's output.\n",
    "\t\n",
    "1. Define a 1-D tensor “X” containing numbers from 1 to 5.\n",
    "2. Define a 1-D tensor “W1” containing 5 random weights.\n",
    "3. Define a tensor “b” contained 1 random weight.\n",
    "4. Compute tensor “H = X * W1 + b” using pytorch. (Note the shape of tensors)\n",
    "5. Apply sigmoid activation function to calculate the “Y”, such that “Y = 1 / (1 + exp(-H))”\n",
    "\n"
   ]
  },
  {
   "cell_type": "code",
   "execution_count": 57,
   "metadata": {
    "colab": {
     "base_uri": "https://localhost:8080/",
     "height": 34
    },
    "id": "oBCEPd-kuN7m",
    "outputId": "b04612f1-022e-44dd-b381-11a3c7c87584"
   },
   "outputs": [
    {
     "data": {
      "text/plain": [
       "tensor([2, 5, 8, 9])"
      ]
     },
     "execution_count": 57,
     "metadata": {},
     "output_type": "execute_result"
    }
   ],
   "source": [
    "a.to(torch.device('cpu:0'))"
   ]
  },
  {
   "cell_type": "code",
   "execution_count": 16,
   "metadata": {
    "colab": {
     "base_uri": "https://localhost:8080/",
     "height": 101
    },
    "id": "2MSwTlOB7oub",
    "outputId": "49cd67a5-86f3-4776-c7b5-2d7aba4815de"
   },
   "outputs": [
    {
     "name": "stdout",
     "output_type": "stream",
     "text": [
      "X= tensor([1., 2., 3., 4., 5.])\n",
      "W1= tensor([-0.1538,  0.5310, -1.1181, -1.6325,  0.0582])\n",
      "b= tensor([-0.3608])\n",
      "H= tensor([-9.0458])\n",
      "Y= tensor([0.0001])\n"
     ]
    }
   ],
   "source": [
    "x=np.arange(5)+1\n",
    "#print(x.dtype)#int32\n",
    "#print('x=',x)\n",
    "X=torch.Tensor(x)#torch.Tensor是torch.FloatTensor的别名\n",
    "print('X=',X)\n",
    "W1=torch.randn(5)\n",
    "print('W1=',W1)\n",
    "b=torch.randn(1)\n",
    "print('b=',b)\n",
    "H=X@W1.T+b\n",
    "#H=torch.matmul(X,W1)+b\n",
    "print('H=',H)\n",
    "#Y=1/(1+np.exp(-H))\n",
    "Y=torch.sigmoid(H)\n",
    "print('Y=',Y)"
   ]
  },
  {
   "cell_type": "markdown",
   "metadata": {
    "id": "4NeFRFfJtVAZ"
   },
   "source": [
    "**You have just coded to write a neuron !!**"
   ]
  },
  {
   "cell_type": "markdown",
   "metadata": {
    "id": "PZijA-qu8vqz"
   },
   "source": [
    "Q5. Adding multiple neurons in a single layer (3 Hidden Units)\n",
    "1. Define 2-D tensor “W2” containing random numbers of shape 5 * 3\n",
    "2. Define 1-D tensor of “b2” containing 3 random numbers.\n",
    "3. Compute tensor H2 = [h1 h2 h3] using the “H2 = X * W2 + b2” using pytorch\n",
    "4. Apply sigmoid activation function to calculate “Y2 = [y1 y2 y3]” such that “Y = 1 / (1 + exp(-H2)”\n"
   ]
  },
  {
   "cell_type": "code",
   "execution_count": 17,
   "metadata": {
    "colab": {
     "base_uri": "https://localhost:8080/",
     "height": 185
    },
    "id": "xExsfWQQK6Yw",
    "outputId": "2379a471-e5bf-4534-e2a1-30afb0659c2a"
   },
   "outputs": [
    {
     "name": "stdout",
     "output_type": "stream",
     "text": [
      "W2= tensor([[-0.4297,  0.8304, -0.8135],\n",
      "        [ 0.2950, -0.3794,  0.0637],\n",
      "        [ 0.1508,  1.3224, -0.3824],\n",
      "        [-0.2587, -0.2955, -0.0906],\n",
      "        [ 0.2692, -2.5297, -2.0151]])\n",
      "b2= tensor([-0.3516,  1.9638,  0.9310])\n",
      "H2= tensor([  0.5722,  -7.8282, -11.3399])\n",
      "Y2= tensor([6.3927e-01, 3.9818e-04, 1.1889e-05])\n"
     ]
    }
   ],
   "source": [
    "W2=torch.randn(5,3)\n",
    "print('W2=',W2)\n",
    "b2=torch.randn(3)\n",
    "print('b2=',b2)\n",
    "H2=X@W2+b2\n",
    "print('H2=',H2)\n",
    "Y2=1/(1+np.exp(-H2))\n",
    "print('Y2=',Y2)"
   ]
  },
  {
   "cell_type": "markdown",
   "metadata": {
    "id": "HYNx84SOtd-b"
   },
   "source": [
    "**Now there are 3 neurons outputs!!**"
   ]
  },
  {
   "cell_type": "markdown",
   "metadata": {
    "id": "k9ZvEMtpL96g"
   },
   "source": [
    "Q6.  Stacking one neuron on top of others. The real power of a neural network comes when we apply one function on top of others. ( 3 output units)\n",
    "1. Define 2-D tensor “W21” containing random numbers of shape 3 * 3\n",
    "2. Define 1-D tensor “b3” containing 3 random number\n",
    "3. Compute “H3 = W21 * Y2 + b”. Compute the expected shape of H3.\n",
    "4. Apply softmax pytorch activation function to H3.\n"
   ]
  },
  {
   "cell_type": "code",
   "execution_count": 60,
   "metadata": {
    "colab": {
     "base_uri": "https://localhost:8080/",
     "height": 87
    },
    "id": "CGHA1vkXMFGj",
    "outputId": "7b906112-4f85-4668-bc02-297419c6c9c9"
   },
   "outputs": [
    {
     "name": "stdout",
     "output_type": "stream",
     "text": [
      "W21= tensor([[ 0.0335, -0.1595,  2.1143],\n",
      "        [-0.3946, -0.8111,  0.9752],\n",
      "        [ 1.4537,  1.2119, -0.2102]])\n",
      "b3= tensor([-2.7326, -0.9440,  1.4007])\n",
      "H3= tensor([-0.6557, -0.0355,  1.3270])\n",
      "Y= tensor([0.0988, 0.1837, 0.7175])\n"
     ]
    }
   ],
   "source": [
    "W21=torch.randn(3,3)\n",
    "print('W21=',W21)\n",
    "b3=torch.randn(3)\n",
    "print('b3=',b3)\n",
    "H3=W21@Y2+b3\n",
    "print('H3=',H3)\n",
    "m=nn.Softmax(dim=0)\n",
    "Y=m(H3)\n",
    "print('Y=',Y)"
   ]
  },
  {
   "cell_type": "markdown",
   "metadata": {
    "id": "zjns7H0HBC59"
   },
   "source": [
    "**Now there are 3 neurons outputs!!**"
   ]
  },
  {
   "cell_type": "code",
   "execution_count": 61,
   "metadata": {},
   "outputs": [
    {
     "ename": "NameError",
     "evalue": "name 'tensor' is not defined",
     "output_type": "error",
     "traceback": [
      "\u001b[1;31m---------------------------------------------------------------------------\u001b[0m",
      "\u001b[1;31mNameError\u001b[0m                                 Traceback (most recent call last)",
      "\u001b[1;32m<ipython-input-61-6417131a37a8>\u001b[0m in \u001b[0;36m<module>\u001b[1;34m\u001b[0m\n\u001b[0;32m      1\u001b[0m \u001b[1;31m# We move our tensor to the GPU if available\u001b[0m\u001b[1;33m\u001b[0m\u001b[1;33m\u001b[0m\u001b[1;33m\u001b[0m\u001b[0m\n\u001b[0;32m      2\u001b[0m \u001b[1;32mif\u001b[0m \u001b[0mtorch\u001b[0m\u001b[1;33m.\u001b[0m\u001b[0mcuda\u001b[0m\u001b[1;33m.\u001b[0m\u001b[0mis_available\u001b[0m\u001b[1;33m(\u001b[0m\u001b[1;33m)\u001b[0m\u001b[1;33m:\u001b[0m\u001b[1;33m\u001b[0m\u001b[1;33m\u001b[0m\u001b[0m\n\u001b[1;32m----> 3\u001b[1;33m   \u001b[0mtensor\u001b[0m \u001b[1;33m=\u001b[0m \u001b[0mtensor\u001b[0m\u001b[1;33m.\u001b[0m\u001b[0mto\u001b[0m\u001b[1;33m(\u001b[0m\u001b[1;34m'cuda'\u001b[0m\u001b[1;33m)\u001b[0m\u001b[1;33m\u001b[0m\u001b[1;33m\u001b[0m\u001b[0m\n\u001b[0m",
      "\u001b[1;31mNameError\u001b[0m: name 'tensor' is not defined"
     ]
    }
   ],
   "source": [
    "# We move our tensor to the GPU if available\n",
    "if torch.cuda.is_available():\n",
    "  tensor = tensor.to('cuda')"
   ]
  },
  {
   "cell_type": "code",
   "execution_count": null,
   "metadata": {},
   "outputs": [],
   "source": [
    "cuda0 = torch.device('cuda:0')\n",
    "torch.ones([2, 4], dtype=torch.float64, device=cuda0)"
   ]
  },
  {
   "cell_type": "code",
   "execution_count": null,
   "metadata": {},
   "outputs": [],
   "source": [
    "m = nn.Softmax(dim=1)\n",
    "input = torch.randn(2, 3)\n",
    "print('input',input)\n",
    "output = m(input)\n",
    "print('output',output)"
   ]
  },
  {
   "cell_type": "code",
   "execution_count": null,
   "metadata": {},
   "outputs": [],
   "source": []
  }
 ],
 "metadata": {
  "colab": {
   "collapsed_sections": [],
   "name": "practice1_python_pytorch.ipynb",
   "provenance": [],
   "toc_visible": true
  },
  "kernelspec": {
   "display_name": "Python 3.8 (pytorch)",
   "language": "python",
   "name": "pytorch"
  },
  "language_info": {
   "codemirror_mode": {
    "name": "ipython",
    "version": 3
   },
   "file_extension": ".py",
   "mimetype": "text/x-python",
   "name": "python",
   "nbconvert_exporter": "python",
   "pygments_lexer": "ipython3",
   "version": "3.8.5"
  }
 },
 "nbformat": 4,
 "nbformat_minor": 1
}
