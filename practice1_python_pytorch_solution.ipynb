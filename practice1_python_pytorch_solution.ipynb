{
  "nbformat": 4,
  "nbformat_minor": 0,
  "metadata": {
    "kernelspec": {
      "display_name": "Python 3",
      "language": "python",
      "name": "python3"
    },
    "language_info": {
      "codemirror_mode": {
        "name": "ipython",
        "version": 3
      },
      "file_extension": ".py",
      "mimetype": "text/x-python",
      "name": "python",
      "nbconvert_exporter": "python",
      "pygments_lexer": "ipython3",
      "version": "3.7.3"
    },
    "colab": {
      "name": "practice1_python_pytorch_solution.ipynb",
      "provenance": [],
      "collapsed_sections": [],
      "include_colab_link": true
    }
  },
  "cells": [
    {
      "cell_type": "markdown",
      "metadata": {
        "id": "view-in-github",
        "colab_type": "text"
      },
      "source": [
        "<a href=\"https://colab.research.google.com/github/zbowen0225/cs5242/blob/main/practice1_python_pytorch_solution.ipynb\" target=\"_parent\"><img src=\"https://colab.research.google.com/assets/colab-badge.svg\" alt=\"Open In Colab\"/></a>"
      ]
    },
    {
      "cell_type": "markdown",
      "metadata": {
        "id": "VWY48OqAk8PT"
      },
      "source": [
        "## Practice 1: PYTHON 1"
      ]
    },
    {
      "cell_type": "markdown",
      "metadata": {
        "id": "5BSHzb5jlUHT"
      },
      "source": [
        "Use Jupyter Notebook, Google Colaboratory, or your program of choice to answer the following questions using Python code."
      ]
    },
    {
      "cell_type": "markdown",
      "metadata": {
        "id": "G1g4ugP89VRR"
      },
      "source": [
        "Question 1"
      ]
    },
    {
      "cell_type": "code",
      "metadata": {
        "id": "iNDlX-nS9VRW"
      },
      "source": [
        "# Calculate how much money you would have if you compounded $100 at 10% for 8 years"
      ],
      "execution_count": null,
      "outputs": []
    },
    {
      "cell_type": "code",
      "metadata": {
        "colab": {
          "base_uri": "https://localhost:8080/"
        },
        "id": "X33gzQFE9VRW",
        "outputId": "a56cca52-dfb8-4a82-f843-74f6eefa869b"
      },
      "source": [
        "print(100*1.1**8)"
      ],
      "execution_count": null,
      "outputs": [
        {
          "output_type": "stream",
          "text": [
            "214.35888100000017\n"
          ],
          "name": "stdout"
        }
      ]
    },
    {
      "cell_type": "markdown",
      "metadata": {
        "id": "AwC8bLO29VRX"
      },
      "source": [
        "Question 2"
      ]
    },
    {
      "cell_type": "code",
      "metadata": {
        "id": "M8RlNjjj9VRY"
      },
      "source": [
        "# Create a variable called “days”. Assign the value “7” to this variable. "
      ],
      "execution_count": null,
      "outputs": []
    },
    {
      "cell_type": "code",
      "metadata": {
        "id": "YMc5k_GB9VRY"
      },
      "source": [
        "days = 7"
      ],
      "execution_count": null,
      "outputs": []
    },
    {
      "cell_type": "code",
      "metadata": {
        "colab": {
          "base_uri": "https://localhost:8080/",
          "height": 232
        },
        "id": "DpwZured9VRY",
        "outputId": "2236a137-50af-4713-b8b2-5fe167b9fa9b"
      },
      "source": [
        "# Try to execute the following code \n",
        "\n",
        "print(\"There are \" + days + \" days in a week\")\n",
        "\n",
        "# Rewrite the code to avoid the error"
      ],
      "execution_count": null,
      "outputs": [
        {
          "output_type": "error",
          "ename": "TypeError",
          "evalue": "ignored",
          "traceback": [
            "\u001b[0;31m---------------------------------------------------------------------------\u001b[0m",
            "\u001b[0;31mTypeError\u001b[0m                                 Traceback (most recent call last)",
            "\u001b[0;32m<ipython-input-6-2dabe37ad710>\u001b[0m in \u001b[0;36m<module>\u001b[0;34m()\u001b[0m\n\u001b[1;32m      1\u001b[0m \u001b[0;31m# Try to execute the following code\u001b[0m\u001b[0;34m\u001b[0m\u001b[0;34m\u001b[0m\u001b[0;34m\u001b[0m\u001b[0m\n\u001b[1;32m      2\u001b[0m \u001b[0;34m\u001b[0m\u001b[0m\n\u001b[0;32m----> 3\u001b[0;31m \u001b[0mprint\u001b[0m\u001b[0;34m(\u001b[0m\u001b[0;34m\"There are \"\u001b[0m \u001b[0;34m+\u001b[0m \u001b[0mdays\u001b[0m \u001b[0;34m+\u001b[0m \u001b[0;34m\" days in a week\"\u001b[0m\u001b[0;34m)\u001b[0m\u001b[0;34m\u001b[0m\u001b[0;34m\u001b[0m\u001b[0m\n\u001b[0m\u001b[1;32m      4\u001b[0m \u001b[0;34m\u001b[0m\u001b[0m\n\u001b[1;32m      5\u001b[0m \u001b[0;31m# Rewrite the code to avoid the error\u001b[0m\u001b[0;34m\u001b[0m\u001b[0;34m\u001b[0m\u001b[0;34m\u001b[0m\u001b[0m\n",
            "\u001b[0;31mTypeError\u001b[0m: must be str, not int"
          ]
        }
      ]
    },
    {
      "cell_type": "code",
      "metadata": {
        "colab": {
          "base_uri": "https://localhost:8080/"
        },
        "id": "k5UsnwG39VRY",
        "outputId": "3d5cff15-f3de-4c70-857e-b5f5a001e7ee"
      },
      "source": [
        "print(\"There are \" + str(days) + \" days in a week\")"
      ],
      "execution_count": null,
      "outputs": [
        {
          "output_type": "stream",
          "text": [
            "There are 7 days in a week\n"
          ],
          "name": "stdout"
        }
      ]
    },
    {
      "cell_type": "markdown",
      "metadata": {
        "id": "4AyvmzIaltpb"
      },
      "source": [
        "There are 4 data types in the Python programming language. These data types let you group items into collections with specific properties (that you can then manipulate further later).\n",
        "- **Lists** are a collection which is ordered and changeable. Allows duplicate members.\n",
        "- **Dictionaries** are a collection which are unordered, changeable and indexed. No duplicate\n",
        "members.\n",
        "- **Tuples** are a collection which is ordered and unchangeable. Allows duplicate members.\n",
        "- **Sets** are a collection which is unordered and unindexed. No duplicate members."
      ]
    },
    {
      "cell_type": "markdown",
      "metadata": {
        "id": "YEmc3rxZ9VRZ"
      },
      "source": [
        "Question 3"
      ]
    },
    {
      "cell_type": "code",
      "metadata": {
        "id": "Mk7UGefK9VRZ"
      },
      "source": [
        "# Create a list with the following elements [“Tuesday”, “Wednesday”, “Thursday”, “Friday”,\n",
        "# “Saturday”, “Sunday”, 42]. Add the string ‘Someday’ into this list. \n",
        "\n",
        "# Add the variable ‘days’ that you previously created into this list"
      ],
      "execution_count": null,
      "outputs": []
    },
    {
      "cell_type": "code",
      "metadata": {
        "id": "CK1US2fs9VRZ"
      },
      "source": [
        "list = [\"Tuesday\", \"Wednesday\", \"Thursday\", \"Friday\", \"Saturday\", \"Sunday\", 42]\n",
        "list.append(\"Someday\")\n",
        "list.append(days)"
      ],
      "execution_count": null,
      "outputs": []
    },
    {
      "cell_type": "code",
      "metadata": {
        "colab": {
          "base_uri": "https://localhost:8080/"
        },
        "id": "GzZtNVk49VRa",
        "outputId": "3448c871-a235-4ef9-b2c0-b2985b9e9f2b"
      },
      "source": [
        "list"
      ],
      "execution_count": null,
      "outputs": [
        {
          "output_type": "execute_result",
          "data": {
            "text/plain": [
              "['Tuesday',\n",
              " 'Wednesday',\n",
              " 'Thursday',\n",
              " 'Friday',\n",
              " 'Saturday',\n",
              " 'Sunday',\n",
              " 42,\n",
              " 'Someday',\n",
              " 7]"
            ]
          },
          "metadata": {
            "tags": []
          },
          "execution_count": 10
        }
      ]
    },
    {
      "cell_type": "code",
      "metadata": {
        "id": "DLknd_Ln9VRa"
      },
      "source": [
        "# Create a new variable called ‘sliced_list’, which only contain the first 8 elements of the \n",
        "# first list. Delete the integer ‘42’ from the list. Change the string ‘Someday’ to ‘Monday’"
      ],
      "execution_count": null,
      "outputs": []
    },
    {
      "cell_type": "code",
      "metadata": {
        "colab": {
          "base_uri": "https://localhost:8080/"
        },
        "id": "xtRDmxKn9VRa",
        "outputId": "443c8ec9-782b-43e3-af4b-0023daaf72dc"
      },
      "source": [
        "sliced_list = list[0:8]\n",
        "sliced_list.remove(42)\n",
        "sliced_list[6] = \"Monday\"\n",
        "sliced_list"
      ],
      "execution_count": null,
      "outputs": [
        {
          "output_type": "execute_result",
          "data": {
            "text/plain": [
              "['Tuesday', 'Wednesday', 'Thursday', 'Friday', 'Saturday', 'Sunday', 'Monday']"
            ]
          },
          "metadata": {
            "tags": []
          },
          "execution_count": 12
        }
      ]
    },
    {
      "cell_type": "markdown",
      "metadata": {
        "id": "tkP_4xzY9VRa"
      },
      "source": [
        "Question 4"
      ]
    },
    {
      "cell_type": "code",
      "metadata": {
        "colab": {
          "base_uri": "https://localhost:8080/"
        },
        "id": "MycVW7Uu9VRb",
        "outputId": "00732ee5-a204-4060-c409-647d6b620fe5"
      },
      "source": [
        "# Create a dictionary with the following key:value pairs.\n",
        "# 'name':['john','mary','peter','jeff','bill','lisa','jose'],\n",
        "# 'age':[23,78,22,19,45,33,20],\n",
        "# 'gender':['M','F','M','M','M','F','M'],\n",
        "# 'State':['california','dc','california','dc','california','texas','texas'],\n",
        "# 'num_children':[2,0,0,3,2,1,4]\n",
        "\n",
        "dict = {\n",
        "'name':['john','mary','peter','jeff','bill','lisa','jose'],\n",
        "'age':[23,78,22,19,45,33,20],\n",
        "'gender':['M','F','M','M','M','F','M'],\n",
        "'State':['california','dc','california','dc','california','texas','texas'],\n",
        "'num_children':[2,0,0,3,2,1,4]\n",
        "       }\n",
        "\n",
        "dict"
      ],
      "execution_count": null,
      "outputs": [
        {
          "output_type": "execute_result",
          "data": {
            "text/plain": [
              "{'State': ['california',\n",
              "  'dc',\n",
              "  'california',\n",
              "  'dc',\n",
              "  'california',\n",
              "  'texas',\n",
              "  'texas'],\n",
              " 'age': [23, 78, 22, 19, 45, 33, 20],\n",
              " 'gender': ['M', 'F', 'M', 'M', 'M', 'F', 'M'],\n",
              " 'name': ['john', 'mary', 'peter', 'jeff', 'bill', 'lisa', 'jose'],\n",
              " 'num_children': [2, 0, 0, 3, 2, 1, 4]}"
            ]
          },
          "metadata": {
            "tags": []
          },
          "execution_count": 13
        }
      ]
    },
    {
      "cell_type": "code",
      "metadata": {
        "colab": {
          "base_uri": "https://localhost:8080/"
        },
        "id": "eRYIL6cu9VRb",
        "outputId": "bc181956-a0ed-4e24-a97d-4edddd90f284"
      },
      "source": [
        "# Add the following key:value pair to the dictionary.\n",
        "# 'num_pets':[5,1,0,5,2,2,3]\n",
        "\n",
        "dict['num_pets'] = [5,1,0,5,2,2,3]\n",
        "\n",
        "dict"
      ],
      "execution_count": null,
      "outputs": [
        {
          "output_type": "execute_result",
          "data": {
            "text/plain": [
              "{'State': ['california',\n",
              "  'dc',\n",
              "  'california',\n",
              "  'dc',\n",
              "  'california',\n",
              "  'texas',\n",
              "  'texas'],\n",
              " 'age': [23, 78, 22, 19, 45, 33, 20],\n",
              " 'gender': ['M', 'F', 'M', 'M', 'M', 'F', 'M'],\n",
              " 'name': ['john', 'mary', 'peter', 'jeff', 'bill', 'lisa', 'jose'],\n",
              " 'num_children': [2, 0, 0, 3, 2, 1, 4],\n",
              " 'num_pets': [5, 1, 0, 5, 2, 2, 3]}"
            ]
          },
          "metadata": {
            "tags": []
          },
          "execution_count": 14
        }
      ]
    },
    {
      "cell_type": "markdown",
      "metadata": {
        "id": "QIfaC7FH9VRb"
      },
      "source": [
        "Question 5"
      ]
    },
    {
      "cell_type": "code",
      "metadata": {
        "id": "SpSta48y9VRb"
      },
      "source": [
        "# Import the pandas library as pd and the matplotlib.pyplot library as plt. Convert the \n",
        "# dictionary above to a dataframe\n",
        "\n",
        "import pandas as pd\n",
        "import matplotlib.pyplot as plt\n",
        "\n",
        "df = pd.DataFrame(data = dict)"
      ],
      "execution_count": null,
      "outputs": []
    },
    {
      "cell_type": "code",
      "metadata": {
        "colab": {
          "base_uri": "https://localhost:8080/",
          "height": 266
        },
        "id": "wQwnpU-W9VRc",
        "outputId": "57b9efa9-3663-49aa-fb0d-e2a58270e3d1"
      },
      "source": [
        "df"
      ],
      "execution_count": null,
      "outputs": [
        {
          "output_type": "execute_result",
          "data": {
            "text/html": [
              "<div>\n",
              "<style scoped>\n",
              "    .dataframe tbody tr th:only-of-type {\n",
              "        vertical-align: middle;\n",
              "    }\n",
              "\n",
              "    .dataframe tbody tr th {\n",
              "        vertical-align: top;\n",
              "    }\n",
              "\n",
              "    .dataframe thead th {\n",
              "        text-align: right;\n",
              "    }\n",
              "</style>\n",
              "<table border=\"1\" class=\"dataframe\">\n",
              "  <thead>\n",
              "    <tr style=\"text-align: right;\">\n",
              "      <th></th>\n",
              "      <th>name</th>\n",
              "      <th>age</th>\n",
              "      <th>gender</th>\n",
              "      <th>State</th>\n",
              "      <th>num_children</th>\n",
              "      <th>num_pets</th>\n",
              "    </tr>\n",
              "  </thead>\n",
              "  <tbody>\n",
              "    <tr>\n",
              "      <th>0</th>\n",
              "      <td>john</td>\n",
              "      <td>23</td>\n",
              "      <td>M</td>\n",
              "      <td>california</td>\n",
              "      <td>2</td>\n",
              "      <td>5</td>\n",
              "    </tr>\n",
              "    <tr>\n",
              "      <th>1</th>\n",
              "      <td>mary</td>\n",
              "      <td>78</td>\n",
              "      <td>F</td>\n",
              "      <td>dc</td>\n",
              "      <td>0</td>\n",
              "      <td>1</td>\n",
              "    </tr>\n",
              "    <tr>\n",
              "      <th>2</th>\n",
              "      <td>peter</td>\n",
              "      <td>22</td>\n",
              "      <td>M</td>\n",
              "      <td>california</td>\n",
              "      <td>0</td>\n",
              "      <td>0</td>\n",
              "    </tr>\n",
              "    <tr>\n",
              "      <th>3</th>\n",
              "      <td>jeff</td>\n",
              "      <td>19</td>\n",
              "      <td>M</td>\n",
              "      <td>dc</td>\n",
              "      <td>3</td>\n",
              "      <td>5</td>\n",
              "    </tr>\n",
              "    <tr>\n",
              "      <th>4</th>\n",
              "      <td>bill</td>\n",
              "      <td>45</td>\n",
              "      <td>M</td>\n",
              "      <td>california</td>\n",
              "      <td>2</td>\n",
              "      <td>2</td>\n",
              "    </tr>\n",
              "    <tr>\n",
              "      <th>5</th>\n",
              "      <td>lisa</td>\n",
              "      <td>33</td>\n",
              "      <td>F</td>\n",
              "      <td>texas</td>\n",
              "      <td>1</td>\n",
              "      <td>2</td>\n",
              "    </tr>\n",
              "    <tr>\n",
              "      <th>6</th>\n",
              "      <td>jose</td>\n",
              "      <td>20</td>\n",
              "      <td>M</td>\n",
              "      <td>texas</td>\n",
              "      <td>4</td>\n",
              "      <td>3</td>\n",
              "    </tr>\n",
              "  </tbody>\n",
              "</table>\n",
              "</div>"
            ],
            "text/plain": [
              "    name  age gender       State  num_children  num_pets\n",
              "0   john   23      M  california             2         5\n",
              "1   mary   78      F          dc             0         1\n",
              "2  peter   22      M  california             0         0\n",
              "3   jeff   19      M          dc             3         5\n",
              "4   bill   45      M  california             2         2\n",
              "5   lisa   33      F       texas             1         2\n",
              "6   jose   20      M       texas             4         3"
            ]
          },
          "metadata": {
            "tags": []
          },
          "execution_count": 16
        }
      ]
    },
    {
      "cell_type": "markdown",
      "metadata": {
        "id": "Qi123IFqEZNj"
      },
      "source": [
        "Question 6"
      ]
    },
    {
      "cell_type": "code",
      "metadata": {
        "colab": {
          "base_uri": "https://localhost:8080/",
          "height": 297
        },
        "id": "Eb9NCxBq9VRc",
        "outputId": "570a9cd6-7d53-4c3c-b2cd-7a6415eb98a9"
      },
      "source": [
        "# Plot a scatterplot of 'num_childern' against 'num_pets'\n",
        "\n",
        "df.plot.scatter('num_children', 'num_pets')"
      ],
      "execution_count": null,
      "outputs": [
        {
          "output_type": "execute_result",
          "data": {
            "text/plain": [
              "<matplotlib.axes._subplots.AxesSubplot at 0x7f56dad51b70>"
            ]
          },
          "metadata": {
            "tags": []
          },
          "execution_count": 17
        },
        {
          "output_type": "display_data",
          "data": {
            "image/png": "[encoded data removed]",
            "text/plain": [
              "<Figure size 432x288 with 1 Axes>"
            ]
          },
          "metadata": {
            "tags": [],
            "needs_background": "light"
          }
        }
      ]
    },
    {
      "cell_type": "markdown",
      "metadata": {
        "id": "RIUV8yWRFHpz"
      },
      "source": [
        "Question 7"
      ]
    },
    {
      "cell_type": "code",
      "metadata": {
        "id": "rRodth8O9VRc",
        "colab": {
          "base_uri": "https://localhost:8080/",
          "height": 313
        },
        "outputId": "e56de923-745e-4e8d-ef44-39d0b3786ad1"
      },
      "source": [
        "# Plot a bar plot of 'name' against 'age'\n",
        "\n",
        "df.plot.bar('name', 'age')"
      ],
      "execution_count": null,
      "outputs": [
        {
          "output_type": "execute_result",
          "data": {
            "text/plain": [
              "<matplotlib.axes._subplots.AxesSubplot at 0x7f56dad09080>"
            ]
          },
          "metadata": {
            "tags": []
          },
          "execution_count": 18
        },
        {
          "output_type": "display_data",
          "data": {
            "image/png": "[encoded data removed]",
            "text/plain": [
              "<Figure size 432x288 with 1 Axes>"
            ]
          },
          "metadata": {
            "tags": [],
            "needs_background": "light"
          }
        }
      ]
    },
    {
      "cell_type": "markdown",
      "metadata": {
        "id": "qDekKnK9FLz5"
      },
      "source": [
        "Question 8"
      ]
    },
    {
      "cell_type": "code",
      "metadata": {
        "id": "LavXP2C89VRc"
      },
      "source": [
        "# Create a list with the numbers 1 to 10. Write a program to loop through the numbers in \n",
        "# the list and print “odd” if the number is odd and “even” if the number is even."
      ],
      "execution_count": null,
      "outputs": []
    },
    {
      "cell_type": "code",
      "metadata": {
        "id": "MO2ycAw99VRd"
      },
      "source": [
        "list = [1, 2, 3, 4, 5, 6, 7, 8, 9, 10]"
      ],
      "execution_count": null,
      "outputs": []
    },
    {
      "cell_type": "code",
      "metadata": {
        "id": "C1cjmY8C9VRd",
        "colab": {
          "base_uri": "https://localhost:8080/"
        },
        "outputId": "f9bc9bde-df34-45ff-d24c-b52f147149a0"
      },
      "source": [
        "for number in list:\n",
        "    if number % 2 == 0:\n",
        "        print(str(number) + ' is even')\n",
        "    else:\n",
        "        print(str(number) + ' is odd')"
      ],
      "execution_count": null,
      "outputs": [
        {
          "output_type": "stream",
          "text": [
            "1 is odd\n",
            "2 is even\n",
            "3 is odd\n",
            "4 is even\n",
            "5 is odd\n",
            "6 is even\n",
            "7 is odd\n",
            "8 is even\n",
            "9 is odd\n",
            "10 is even\n"
          ],
          "name": "stdout"
        }
      ]
    },
    {
      "cell_type": "markdown",
      "metadata": {
        "id": "VHLUxv0PmN1W"
      },
      "source": [
        "## PYTHON 2"
      ]
    },
    {
      "cell_type": "markdown",
      "metadata": {
        "id": "VyhUjkoZmS_l"
      },
      "source": [
        "Third-Party Python Libraries\n",
        "\n",
        "a. NumPy (for low-level math operations)\n",
        "\n",
        "b. Pandas (for data loading and manipulation)\n",
        "\n",
        "c. Matplotlib and Seaborn (for data visualization)\n"
      ]
    },
    {
      "cell_type": "markdown",
      "metadata": {
        "id": "qo21WKLZIndO"
      },
      "source": [
        "### NumPy"
      ]
    },
    {
      "cell_type": "markdown",
      "metadata": {
        "id": "F8urzRM6o_N6"
      },
      "source": [
        "The purpose of this tutorial is to familiarize with NumPy array creation, its operations like slicing, indexing, transposing and some important mathematical functions.\n",
        "\n",
        "- NumPy is a N-dimensional array type called ndarray.\n",
        "\n",
        "- It describes the collection of items of the same type. Each element in ndarray is\n",
        "an object of data-type object (called dtype)\n",
        "\n",
        "- Images are loaded into NumPy array\n"
      ]
    },
    {
      "cell_type": "markdown",
      "metadata": {
        "id": "XMbYA5Iq1hxj"
      },
      "source": [
        "**1. Create a 1-D NumPy array ‘A’, from list [5 8 10 5 4 3 2 1], check its parameters (ndim, shape, itemsize, dtype)**"
      ]
    },
    {
      "cell_type": "code",
      "metadata": {
        "colab": {
          "base_uri": "https://localhost:8080/"
        },
        "id": "2YjtIZL0JVNt",
        "outputId": "f436b00d-8919-4d8d-d59e-4d47ee2561f6"
      },
      "source": [
        "import numpy as np\n",
        "A=np.array([5, 8, 10, 5, 4, 3, 2, 1], dtype=int)\n",
        "print('ndim = {}, shape = {}, itemsize = {}, dtype = {}'.format(A.ndim, A.shape, A.itemsize, A.dtype))\n",
        "#Item size is in bytes"
      ],
      "execution_count": null,
      "outputs": [
        {
          "output_type": "stream",
          "text": [
            "ndim = 1, shape = (8,), itemsize = 8, dtype = int64\n"
          ],
          "name": "stdout"
        }
      ]
    },
    {
      "cell_type": "markdown",
      "metadata": {
        "id": "gif0QjwmKxMW"
      },
      "source": [
        "**2. Create a 2-D NumPy array ‘B’. Check its parameters \n",
        " B = [[ True False]\n",
        "      [False  True]]**\n"
      ]
    },
    {
      "cell_type": "code",
      "metadata": {
        "colab": {
          "base_uri": "https://localhost:8080/"
        },
        "id": "4usqGh-0J7lr",
        "outputId": "2d018971-8543-4a85-aa28-77d298273b80"
      },
      "source": [
        "B=np.array([[True,False],[False,True]], dtype=bool)\n",
        "print('ndim = {}, shape = {}, itemsize = {}, dtype = {}'.format(B.ndim, B.shape, B.itemsize, B.dtype))"
      ],
      "execution_count": null,
      "outputs": [
        {
          "output_type": "stream",
          "text": [
            "ndim = 2, shape = (2, 2), itemsize = 1, dtype = bool\n"
          ],
          "name": "stdout"
        }
      ]
    },
    {
      "cell_type": "markdown",
      "metadata": {
        "id": "uwIkhZxJLQ6p"
      },
      "source": [
        "**3.  Create a 1-D NumPy array ‘C’ of size 1 * 4,  consisting of all ones i.e. \n",
        "        C = [1. 1. 1. 1.]**\n"
      ]
    },
    {
      "cell_type": "code",
      "metadata": {
        "colab": {
          "base_uri": "https://localhost:8080/"
        },
        "id": "5CRVt_k1K54Q",
        "outputId": "bb458e1a-410a-4457-8dad-87ca04b1e11c"
      },
      "source": [
        "C=np.ones((1,4))\n",
        "print(C)"
      ],
      "execution_count": null,
      "outputs": [
        {
          "output_type": "stream",
          "text": [
            "[[1. 1. 1. 1.]]\n"
          ],
          "name": "stdout"
        }
      ]
    },
    {
      "cell_type": "markdown",
      "metadata": {
        "id": "1ibs4LgRLGg7"
      },
      "source": [
        "**4.  Create a 2-D NumPy array,‘D’ of size 5 * 4, consisting of number from   \n",
        "     0,1,2,3,4….19**\n",
        "     \n",
        "     D =  \n",
        "            [[ 0  1  2  3]\n",
        "             [ 4  5  6  7]\n",
        "             [ 8  9 10 11]\n",
        "             [12 13 14 15]\n",
        "             [16 17 18 19]]"
      ]
    },
    {
      "cell_type": "code",
      "metadata": {
        "colab": {
          "base_uri": "https://localhost:8080/"
        },
        "id": "-kb7x8kPLgwD",
        "outputId": "3de2ac6b-07ca-4b94-e975-199af207e96e"
      },
      "source": [
        "D=np.arange(20).reshape(5, 4)\n",
        "print(D)"
      ],
      "execution_count": null,
      "outputs": [
        {
          "output_type": "stream",
          "text": [
            "[[ 0  1  2  3]\n",
            " [ 4  5  6  7]\n",
            " [ 8  9 10 11]\n",
            " [12 13 14 15]\n",
            " [16 17 18 19]]\n"
          ],
          "name": "stdout"
        }
      ]
    },
    {
      "cell_type": "markdown",
      "metadata": {
        "id": "h_10eDwhLZdc"
      },
      "source": [
        "**5.  Add array ‘C’ to array ‘D’. (You will be doing broadcasting!!)**\n"
      ]
    },
    {
      "cell_type": "code",
      "metadata": {
        "colab": {
          "base_uri": "https://localhost:8080/"
        },
        "id": "Vy_3cDDSLvOK",
        "outputId": "3dc5d848-097b-471b-a0e0-abc3faf82d6b"
      },
      "source": [
        "print(C + D)"
      ],
      "execution_count": null,
      "outputs": [
        {
          "output_type": "stream",
          "text": [
            "[[ 1.  2.  3.  4.]\n",
            " [ 5.  6.  7.  8.]\n",
            " [ 9. 10. 11. 12.]\n",
            " [13. 14. 15. 16.]\n",
            " [17. 18. 19. 20.]]\n"
          ],
          "name": "stdout"
        }
      ]
    },
    {
      "cell_type": "markdown",
      "metadata": {
        "id": "d3ygbOhWLuCz"
      },
      "source": [
        "**6.  Transpose the 2-D array ‘D’**"
      ]
    },
    {
      "cell_type": "code",
      "metadata": {
        "colab": {
          "base_uri": "https://localhost:8080/"
        },
        "id": "imVg9qYNL370",
        "outputId": "ebf00e5e-430d-4a5e-acd2-7733d1a169d4"
      },
      "source": [
        "print(D.T)"
      ],
      "execution_count": null,
      "outputs": [
        {
          "output_type": "stream",
          "text": [
            "[[ 0  4  8 12 16]\n",
            " [ 1  5  9 13 17]\n",
            " [ 2  6 10 14 18]\n",
            " [ 3  7 11 15 19]]\n"
          ],
          "name": "stdout"
        }
      ]
    },
    {
      "cell_type": "markdown",
      "metadata": {
        "id": "_aHZo_YaL2Xo"
      },
      "source": [
        "**7.  From array ‘D’ use NumPy 2-D slicing to extract below slice\n",
        "        [[ 0  2  4]\n",
        "         [10 12 14]]**\n"
      ]
    },
    {
      "cell_type": "code",
      "metadata": {
        "colab": {
          "base_uri": "https://localhost:8080/"
        },
        "id": "4buv1bSEMUzn",
        "outputId": "73f28082-f950-42b3-e77b-331cc0ceb3db"
      },
      "source": [
        "D=np.arange(20).reshape(4,5)\n",
        "print(D)\n",
        "print(\"\\nAfter slicing operator\\n\")\n",
        "print(D[0:4:2, 0:5:2])"
      ],
      "execution_count": null,
      "outputs": [
        {
          "output_type": "stream",
          "text": [
            "[[ 0  1  2  3  4]\n",
            " [ 5  6  7  8  9]\n",
            " [10 11 12 13 14]\n",
            " [15 16 17 18 19]]\n",
            "\n",
            "After slicing operator\n",
            "\n",
            "[[ 0  2  4]\n",
            " [10 12 14]]\n"
          ],
          "name": "stdout"
        }
      ]
    },
    {
      "cell_type": "markdown",
      "metadata": {
        "id": "SQtJJ9nbL8Yt"
      },
      "source": [
        "**8.  From array ‘D’ extract the corner elements using NumPy Indexing\n",
        "        [[ 0  4]\n",
        "         [15 19]]**"
      ]
    },
    {
      "cell_type": "code",
      "metadata": {
        "colab": {
          "base_uri": "https://localhost:8080/"
        },
        "id": "bc8cqjjKNxnn",
        "outputId": "9637a84f-046c-4943-a6b4-09d48ef024af"
      },
      "source": [
        "rows = np.array([[0,0],[3,3]])\n",
        "cols = np.array([[0,4],[0,4]]) \n",
        "\n",
        "print('\\nThe corner elements of this array are:    \\n', D[rows,cols])"
      ],
      "execution_count": null,
      "outputs": [
        {
          "output_type": "stream",
          "text": [
            "\n",
            "The corner elements of this array are:    \n",
            " [[ 0  4]\n",
            " [15 19]]\n"
          ],
          "name": "stdout"
        }
      ]
    },
    {
      "cell_type": "markdown",
      "metadata": {
        "id": "bkRwSzqsNvXU"
      },
      "source": [
        "**9. Modify the ‘D’ array to make center elements 0 i.e.**\n",
        " \n",
        " D = \n",
        " \n",
        "          [[ 0  1  2  3  4]          \n",
        "           [ 5  0  0  0  9]\n",
        "           [10  0  0  0  14]\n",
        "           [15 16 17 18 19]]\n"
      ]
    },
    {
      "cell_type": "code",
      "metadata": {
        "colab": {
          "base_uri": "https://localhost:8080/"
        },
        "id": "CfwSkCkZQQWZ",
        "outputId": "d8408daf-8df6-4bc8-f070-484f62a5d52c"
      },
      "source": [
        "D[1:3, 1:4] = 0\n",
        "print('Modified D = \\n', D)"
      ],
      "execution_count": null,
      "outputs": [
        {
          "output_type": "stream",
          "text": [
            "Modified D = \n",
            " [[ 0  1  2  3  4]\n",
            " [ 5  0  0  0  9]\n",
            " [10  0  0  0 14]\n",
            " [15 16 17 18 19]]\n"
          ],
          "name": "stdout"
        }
      ]
    },
    {
      "cell_type": "markdown",
      "metadata": {
        "id": "G6MI-YvhQI_8"
      },
      "source": [
        "**10. Initialize a 4 * 5 numpy array ‘E’ with random numbers. Now find the maximum number in all columns and its position. Find the mean and std of the matrix. Now multiply the matrix ‘E’ and matrix ‘D’.**"
      ]
    },
    {
      "cell_type": "code",
      "metadata": {
        "colab": {
          "base_uri": "https://localhost:8080/"
        },
        "id": "oVnrgMYVQkoQ",
        "outputId": "a9887280-bd6c-4d4a-de12-bdc1d7104a81"
      },
      "source": [
        "E=np.random.randint(1,30, 20).reshape(4,5)\n",
        "print(\"\\n Matrix E = \\n\", E)\n",
        "print(\"\\nMaximum of all columns = \\n\", np.amax(E, 0))\n",
        "print(\"\\nMean of all numbers = \", np.mean(E))\n",
        "print(\"\\nSTD of all numbers = \", np.std(E))"
      ],
      "execution_count": null,
      "outputs": [
        {
          "output_type": "stream",
          "text": [
            "\n",
            " Matrix E = \n",
            " [[12 12 11  8  5]\n",
            " [29 26 27  1 18]\n",
            " [24  8 17  1  7]\n",
            " [29  2 22 21  5]]\n",
            "\n",
            "Maximum of all columns = \n",
            " [29 26 27 21 18]\n",
            "\n",
            "Mean of all numbers =  14.25\n",
            "\n",
            "STD of all numbers =  9.438617483508907\n"
          ],
          "name": "stdout"
        }
      ]
    },
    {
      "cell_type": "markdown",
      "metadata": {
        "id": "Z2AYOTUXQiE6"
      },
      "source": [
        "**11. Load an image(sample.png provided) into numpy array. Commands to load an image to numpy array is ‘import cv2; img = cv2.imread('sample.jpg')’. Now extract a 100*100 matrix from the image and show it with matplotlib. Command to show an image:‘from matplotlib import pyplot as plt; plt.imshow(img)’**"
      ]
    },
    {
      "cell_type": "code",
      "metadata": {
        "colab": {
          "base_uri": "https://localhost:8080/"
        },
        "id": "dtd2h6gkLdvz",
        "outputId": "cf3128e5-89ec-4158-a7ba-79b4c909c987"
      },
      "source": [
        "!wget https://www.comp.nus.edu.sg/~kai422/CS5242/sample.jpg"
      ],
      "execution_count": null,
      "outputs": [
        {
          "output_type": "stream",
          "text": [
            "--2021-01-16 14:02:41--  https://www.comp.nus.edu.sg/~kai422/CS5242/sample.jpg\n",
            "Resolving www.comp.nus.edu.sg (www.comp.nus.edu.sg)... 45.60.35.225\n",
            "Connecting to www.comp.nus.edu.sg (www.comp.nus.edu.sg)|45.60.35.225|:443... connected.\n",
            "HTTP request sent, awaiting response... 200 OK\n",
            "Length: 52983 (52K) [image/jpeg]\n",
            "Saving to: ‘sample.jpg’\n",
            "\n",
            "sample.jpg          100%[===================>]  51.74K  --.-KB/s    in 0.1s    \n",
            "\n",
            "2021-01-16 14:02:41 (543 KB/s) - ‘sample.jpg’ saved [52983/52983]\n",
            "\n"
          ],
          "name": "stdout"
        }
      ]
    },
    {
      "cell_type": "code",
      "metadata": {
        "colab": {
          "base_uri": "https://localhost:8080/"
        },
        "id": "WfA06J7ASQdl",
        "outputId": "bb20a589-59fb-4dd8-9bb1-091800f6207f"
      },
      "source": [
        "import numpy as np\n",
        "import cv2\n",
        "from matplotlib import pyplot as plt\n",
        "\n",
        "\n",
        "img = cv2.imread('/content/sample.jpg')\n",
        "\n",
        "print(\"Type of image = \", type(img))\n",
        "print(\"Size of image = \", img.shape)\n",
        "\n",
        "plt.subplot(1,2,1)\n",
        "plt.imshow(img)\n",
        "\n",
        "\n",
        "plt.subplot(1,2,2)\n",
        "#plt.imshow(img[:100][:100])\n",
        "plt.imshow(img[: 100, : 100])\n",
        "\n"
      ],
      "execution_count": null,
      "outputs": [
        {
          "output_type": "stream",
          "text": [
            "Type of image =  <class 'numpy.ndarray'>\n",
            "Size of image =  (241, 320, 3)\n"
          ],
          "name": "stdout"
        },
        {
          "output_type": "execute_result",
          "data": {
            "text/plain": [
              "<matplotlib.image.AxesImage at 0x7f56d10f2ac8>"
            ]
          },
          "metadata": {
            "tags": []
          },
          "execution_count": 33
        },
        {
          "output_type": "display_data",
          "data": {
            "image/png": "[encoded data removed]",
            "text/plain": [
              "<Figure size 432x288 with 2 Axes>"
            ]
          },
          "metadata": {
            "tags": [],
            "needs_background": "light"
          }
        }
      ]
    },
    {
      "cell_type": "markdown",
      "metadata": {
        "id": "FV09_vuQTmLU"
      },
      "source": [
        "### Pandas"
      ]
    },
    {
      "cell_type": "markdown",
      "metadata": {
        "id": "IpX5uwKVpHRC"
      },
      "source": [
        "- There are two central data structures of Pandas are Series and DataFrame\n",
        "\n",
        "- Foundation of a DataFrame is a Series. The docstring of DataFrame defines a\n",
        "DataFrame as “Can be thought of as a dict-like container for\n",
        "Series objects”\n",
        "\n",
        "- So what is a series? A Pandas series can be conceptualized in two ways.\n",
        "\n",
        "  - It can be envisioned as a single column of tabular data.\n",
        "\n",
        "  - It can also be envisioned as a single row of tabular data\n",
        "\n",
        "Let’s assume there is a database table called accounting which stores revenue and expenses across different years.\n",
        "\n",
        "| year | revenue | expense |\n",
        "| :--: | :-----: | :-----: |\n",
        "| 2017 | 1000    | 800     |\n",
        "| 2018 | 1200    | 900     |\n",
        "| 2019 | 1500    | 1100    |\n",
        "\n",
        "**1.Create the table above with Pandas dataframe object**"
      ]
    },
    {
      "cell_type": "code",
      "metadata": {
        "colab": {
          "base_uri": "https://localhost:8080/"
        },
        "id": "kzccpK_2TqmH",
        "outputId": "45dfd2b4-244e-418f-de11-ee2954d53520"
      },
      "source": [
        "import pandas as pd\n",
        "\n",
        "year = pd.Series([2017, 2018, 2019])\n",
        "revenue = pd.Series([1000, 1200, 1500])\n",
        "expense = pd.Series([800, 900, 1100])\n",
        "\n",
        "table_account = pd.DataFrame({'year':year, 'revenue':revenue, 'expense':expense})\n",
        "\n",
        "print (table_account)"
      ],
      "execution_count": null,
      "outputs": [
        {
          "output_type": "stream",
          "text": [
            "   year  revenue  expense\n",
            "0  2017     1000      800\n",
            "1  2018     1200      900\n",
            "2  2019     1500     1100\n"
          ],
          "name": "stdout"
        }
      ]
    },
    {
      "cell_type": "markdown",
      "metadata": {
        "id": "qoJiToubTzxz"
      },
      "source": [
        "**2.Modify the above table to add  ‘savings’ and ‘persons’ as shown below.\n",
        "‘saving’ = ‘revenue’ - ‘expense’**\n"
      ]
    },
    {
      "cell_type": "code",
      "metadata": {
        "colab": {
          "base_uri": "https://localhost:8080/"
        },
        "id": "u_49zpqdT5gR",
        "outputId": "512fa448-524b-45b1-e11d-22cf7c607a91"
      },
      "source": [
        "table_account['savings'] = table_account['revenue'] - table_account['expense']\n",
        "table_account['persons'] = ['abc', 'def', 'ghi']\n",
        "\n",
        "print(\"\\nNew modified data table:\\n\", table_account)"
      ],
      "execution_count": null,
      "outputs": [
        {
          "output_type": "stream",
          "text": [
            "\n",
            "New modified data table:\n",
            "    year  revenue  expense  savings persons\n",
            "0  2017     1000      800      200     abc\n",
            "1  2018     1200      900      300     def\n",
            "2  2019     1500     1100      400     ghi\n"
          ],
          "name": "stdout"
        }
      ]
    },
    {
      "cell_type": "markdown",
      "metadata": {
        "id": "9_LTzfEbUUiA"
      },
      "source": [
        "**3.Load a CSV file (tips.csv provided) to load a CSV file into a pandas dataframe.\n",
        "Now display .head() of dataframe. Then display .describe() of dataframe. Name this dataframe as ‘tips_table’. Sample .head() of tips table.**\n"
      ]
    },
    {
      "cell_type": "code",
      "metadata": {
        "colab": {
          "base_uri": "https://localhost:8080/"
        },
        "id": "VIbC2vn8DBGf",
        "outputId": "bd792357-424b-4deb-a6b1-74e57ed9ce0c"
      },
      "source": [
        "!wget https://www.comp.nus.edu.sg/~kai422/CS5242/tips.csv"
      ],
      "execution_count": null,
      "outputs": [
        {
          "output_type": "stream",
          "text": [
            "--2021-01-19 14:30:52--  https://www.comp.nus.edu.sg/~kai422/CS5242/tips.csv\n",
            "Resolving www.comp.nus.edu.sg (www.comp.nus.edu.sg)... 45.60.31.225\n",
            "Connecting to www.comp.nus.edu.sg (www.comp.nus.edu.sg)|45.60.31.225|:443... connected.\n",
            "HTTP request sent, awaiting response... 200 OK\n",
            "Length: 9729 (9.5K) [text/csv]\n",
            "Saving to: ‘tips.csv.1’\n",
            "\n",
            "tips.csv.1          100%[===================>]   9.50K  --.-KB/s    in 0.006s  \n",
            "\n",
            "2021-01-19 14:30:53 (1.46 MB/s) - ‘tips.csv.1’ saved [9729/9729]\n",
            "\n"
          ],
          "name": "stdout"
        }
      ]
    },
    {
      "cell_type": "code",
      "metadata": {
        "id": "BN779NqALA01",
        "colab": {
          "base_uri": "https://localhost:8080/"
        },
        "outputId": "22313df5-7f5f-404b-cfff-3a892ad5eeea"
      },
      "source": [
        "tips_table=pd.read_csv('/content/tips.csv')\n",
        "print(tips_table.head())\n",
        "print(tips_table.describe())\n"
      ],
      "execution_count": null,
      "outputs": [
        {
          "output_type": "stream",
          "text": [
            "   total_bill   tip     sex smoker  day    time  size\n",
            "0       16.99  1.01  Female     No  Sun  Dinner     2\n",
            "1       10.34  1.66    Male     No  Sun  Dinner     3\n",
            "2       21.01  3.50    Male     No  Sun  Dinner     3\n",
            "3       23.68  3.31    Male     No  Sun  Dinner     2\n",
            "4       24.59  3.61  Female     No  Sun  Dinner     4\n",
            "       total_bill         tip        size\n",
            "count  244.000000  244.000000  244.000000\n",
            "mean    19.785943    2.998279    2.569672\n",
            "std      8.902412    1.383638    0.951100\n",
            "min      3.070000    1.000000    1.000000\n",
            "25%     13.347500    2.000000    2.000000\n",
            "50%     17.795000    2.900000    2.000000\n",
            "75%     24.127500    3.562500    3.000000\n",
            "max     50.810000   10.000000    6.000000\n"
          ],
          "name": "stdout"
        }
      ]
    },
    {
      "cell_type": "markdown",
      "metadata": {
        "id": "Y2hy3TGBUoMd"
      },
      "source": [
        "### MATPLOTLIB and SEABORN"
      ]
    },
    {
      "cell_type": "markdown",
      "metadata": {
        "id": "oIPgSZVhqhQ5"
      },
      "source": [
        "- Seaborn is built on top of Python’s core visualization library Matplotlib.\n",
        "\n",
        "- It is meant to serve as a complement, and not a replacement.\n",
        "\n",
        "- Seaborn works well with NumPy and Pandas data structures\n",
        "\n",
        "**Write a program to draw a scatter_plot with sb.scatterplot taking ‘total_bill’ as x-axis,‘tip’ as y-axis and hue as ‘time’**"
      ]
    },
    {
      "cell_type": "code",
      "metadata": {
        "colab": {
          "base_uri": "https://localhost:8080/",
          "height": 297
        },
        "id": "OkgwfofgUtnc",
        "outputId": "f4aa8967-1b5f-42d1-e9db-306164c44c3c"
      },
      "source": [
        "import seaborn as sb\n",
        "sb.scatterplot(x='total_bill', y='tip', hue='time', data=tips_table)"
      ],
      "execution_count": null,
      "outputs": [
        {
          "output_type": "execute_result",
          "data": {
            "text/plain": [
              "<matplotlib.axes._subplots.AxesSubplot at 0x7f048fb404e0>"
            ]
          },
          "metadata": {
            "tags": []
          },
          "execution_count": 7
        },
        {
          "output_type": "display_data",
          "data": {
            "image/png": "[encoded data removed]",
            "text/plain": [
              "<Figure size 432x288 with 1 Axes>"
            ]
          },
          "metadata": {
            "tags": [],
            "needs_background": "light"
          }
        }
      ]
    },
    {
      "cell_type": "markdown",
      "metadata": {
        "id": "VIMKTdliVMIL"
      },
      "source": [
        "**Write a program to plot a pie chart of given ‘days’ data in ‘tips_table’ table.**\n"
      ]
    },
    {
      "cell_type": "code",
      "metadata": {
        "colab": {
          "base_uri": "https://localhost:8080/",
          "height": 384
        },
        "id": "tSob3JtuU6Ti",
        "outputId": "f2d47cbd-3ed4-4a76-fbac-fdc8d21e0751"
      },
      "source": [
        "import matplotlib.pyplot as plt\n",
        "sums = tips_table['day'].value_counts()\n",
        "plt.pie(sums, labels=sums.index)\n",
        "#show()"
      ],
      "execution_count": null,
      "outputs": [
        {
          "output_type": "execute_result",
          "data": {
            "text/plain": [
              "([<matplotlib.patches.Wedge at 0x7f048f5d5780>,\n",
              "  <matplotlib.patches.Wedge at 0x7f048f5d5cc0>,\n",
              "  <matplotlib.patches.Wedge at 0x7f048f5e2208>,\n",
              "  <matplotlib.patches.Wedge at 0x7f048f5e2710>],\n",
              " [Text(0.47909423581850485, 0.990186201280084, 'Sat'),\n",
              "  Text(-1.0967192869113325, -0.08489290734035711, 'Sun'),\n",
              "  Text(0.3074340394718734, -1.0561649072820052, 'Thur'),\n",
              "  Text(1.06724906774893, -0.2664196452760947, 'Fri')])"
            ]
          },
          "metadata": {
            "tags": []
          },
          "execution_count": 9
        },
        {
          "output_type": "display_data",
          "data": {
            "image/png": "[encoded data removed]",
            "text/plain": [
              "<Figure size 432x288 with 1 Axes>"
            ]
          },
          "metadata": {
            "tags": []
          }
        }
      ]
    },
    {
      "cell_type": "markdown",
      "metadata": {
        "id": "odQSOTmFX8OK"
      },
      "source": [
        "**Plot a bar plot with sb.barplot taking ‘sex’ in x-axis and ‘total_bill’ in y-axis**"
      ]
    },
    {
      "cell_type": "code",
      "metadata": {
        "colab": {
          "base_uri": "https://localhost:8080/",
          "height": 296
        },
        "id": "OqnUfnIoVX92",
        "outputId": "5165303b-06fd-4d80-d3b0-24032f8dea6c"
      },
      "source": [
        "sb.barplot(x='sex', y='total_bill', data=tips_table)"
      ],
      "execution_count": null,
      "outputs": [
        {
          "output_type": "execute_result",
          "data": {
            "text/plain": [
              "<matplotlib.axes._subplots.AxesSubplot at 0x7f048f572198>"
            ]
          },
          "metadata": {
            "tags": []
          },
          "execution_count": 10
        },
        {
          "output_type": "display_data",
          "data": {
            "image/png": "[encoded data removed]",
            "text/plain": [
              "<Figure size 432x288 with 1 Axes>"
            ]
          },
          "metadata": {
            "tags": [],
            "needs_background": "light"
          }
        }
      ]
    },
    {
      "cell_type": "markdown",
      "metadata": {
        "id": "FZCBQrDUYvaR"
      },
      "source": [
        "**Plot the univariate distribution of various data in the ‘tips_table’ table with sb.distplot.**"
      ]
    },
    {
      "cell_type": "code",
      "metadata": {
        "colab": {
          "base_uri": "https://localhost:8080/",
          "height": 386
        },
        "id": "NTEimxCqYIoc",
        "outputId": "b76e8599-cd74-4fda-8cb8-6c639a9a23ef"
      },
      "source": [
        "sb.displot(tips_table['total_bill'], kde=True, stat='density')"
      ],
      "execution_count": null,
      "outputs": [
        {
          "output_type": "execute_result",
          "data": {
            "text/plain": [
              "<seaborn.axisgrid.FacetGrid at 0x7f0484afb0b8>"
            ]
          },
          "metadata": {
            "tags": []
          },
          "execution_count": 17
        },
        {
          "output_type": "display_data",
          "data": {
            "image/png": "[encoded data removed]",
            "text/plain": [
              "<Figure size 360x360 with 1 Axes>"
            ]
          },
          "metadata": {
            "tags": [],
            "needs_background": "light"
          }
        }
      ]
    },
    {
      "cell_type": "markdown",
      "metadata": {
        "id": "PX8jRmaLYrGY"
      },
      "source": [
        "**Plot the bivariate  distribution of data ‘total_bill’ vs ‘tip’ with sb.jointplot()**"
      ]
    },
    {
      "cell_type": "code",
      "metadata": {
        "colab": {
          "base_uri": "https://localhost:8080/",
          "height": 458
        },
        "id": "SkRVTWC7YRgZ",
        "outputId": "6a6fd713-34a7-4140-e31d-7553a1d56ebd"
      },
      "source": [
        "sb.jointplot(x=tips_table['total_bill'], y=tips_table['tip'])"
      ],
      "execution_count": null,
      "outputs": [
        {
          "output_type": "execute_result",
          "data": {
            "text/plain": [
              "<seaborn.axisgrid.JointGrid at 0x7f0484962f28>"
            ]
          },
          "metadata": {
            "tags": []
          },
          "execution_count": 18
        },
        {
          "output_type": "display_data",
          "data": {
            "image/png": "[encoded data removed]",
            "text/plain": [
              "<Figure size 432x432 with 3 Axes>"
            ]
          },
          "metadata": {
            "tags": [],
            "needs_background": "light"
          }
        }
      ]
    },
    {
      "cell_type": "markdown",
      "metadata": {
        "id": "tUizza6aZJQo"
      },
      "source": [
        "**To analyse relation between each and every data of the table to classify ‘time’ class try using\n",
        "sb.pairplot(tips_table, hue=’time’)**"
      ]
    },
    {
      "cell_type": "code",
      "metadata": {
        "colab": {
          "base_uri": "https://localhost:8080/"
        },
        "id": "vA9BYM9aY-f3",
        "outputId": "d9dca04b-b9cf-452b-b681-d9413acf6038"
      },
      "source": [
        "sb.pairplot(tips_table,hue='time')"
      ],
      "execution_count": null,
      "outputs": [
        {
          "output_type": "execute_result",
          "data": {
            "text/plain": [
              "<seaborn.axisgrid.PairGrid at 0x7f56b51907f0>"
            ]
          },
          "metadata": {
            "tags": []
          },
          "execution_count": 43
        },
        {
          "output_type": "display_data",
          "data": {
            "image/png": "[encoded data removed]",
            "text/plain": [
              "<Figure size 609.625x540 with 12 Axes>"
            ]
          },
          "metadata": {
            "tags": [],
            "needs_background": "light"
          }
        }
      ]
    },
    {
      "cell_type": "markdown",
      "metadata": {
        "id": "6l6wFzfHZv0F"
      },
      "source": [
        "**To analyse the relation of categorical data try to plot using sb.stripplot with ‘day’ as x, and ‘total_bill’ as y**"
      ]
    },
    {
      "cell_type": "code",
      "metadata": {
        "colab": {
          "base_uri": "https://localhost:8080/"
        },
        "id": "GXALrCGtZR11",
        "outputId": "6eb09135-1976-4869-cb34-170d8af360ce"
      },
      "source": [
        "sb.stripplot(x='day',y='total_bill',data=tips_table)"
      ],
      "execution_count": null,
      "outputs": [
        {
          "output_type": "execute_result",
          "data": {
            "text/plain": [
              "<matplotlib.axes._subplots.AxesSubplot at 0x7f56b4f483c8>"
            ]
          },
          "metadata": {
            "tags": []
          },
          "execution_count": 44
        },
        {
          "output_type": "display_data",
          "data": {
            "image/png": "[encoded data removed]",
            "text/plain": [
              "<Figure size 432x288 with 1 Axes>"
            ]
          },
          "metadata": {
            "tags": [],
            "needs_background": "light"
          }
        }
      ]
    },
    {
      "cell_type": "markdown",
      "metadata": {
        "id": "NQPEquNwnR1_"
      },
      "source": [
        "## PYTORCH TENSORS"
      ]
    },
    {
      "cell_type": "markdown",
      "metadata": {
        "id": "lR05D7BXo9UV"
      },
      "source": [
        "WHAT IS PYTORCH?\n",
        "It’s a Python-based scientific computing package targeted at two sets of audiences:\n",
        "\n",
        "- A replacement for NumPy to use the power of GPUs\n",
        "- A deep learning research platform that provides maximum flexibility and speed\n",
        "\n",
        "**Tensors**\n",
        "Tensors are similar to NumPy’s ndarrays, with the addition being that Tensors can also be used on a GPU to accelerate computing.\n"
      ]
    },
    {
      "cell_type": "code",
      "metadata": {
        "id": "KuHI9cGDvNaP"
      },
      "source": [
        "# Run some setup code for this notebook.\n",
        "\n",
        "import random\n",
        "import numpy as np\n",
        "import matplotlib.pyplot as plt\n",
        "\n",
        "# This is a bit of magic to make matplotlib figures appear inline in the notebook\n",
        "# rather than in a new window.\n",
        "%matplotlib inline\n",
        "plt.rcParams['figure.figsize'] = (10.0, 8.0) # set default size of plots\n",
        "plt.rcParams['image.interpolation'] = 'nearest'\n",
        "plt.rcParams['image.cmap'] = 'gray'\n",
        "\n",
        "# Some more magic so that the notebook will reload external python modules;\n",
        "# see http://stackoverflow.com/questions/1907993/autoreload-of-modules-in-ipython\n",
        "%load_ext autoreload\n",
        "%autoreload 2\n",
        "\n",
        "\n",
        "import torch\n",
        "import torch.nn as nn"
      ],
      "execution_count": null,
      "outputs": []
    },
    {
      "cell_type": "markdown",
      "metadata": {
        "id": "eXVqMj2SUzA6"
      },
      "source": [
        "Q1. Create a tensor “a” initialized from the list [2, 5, 8, 9]. Now print attributes of tensor  “a” i.e shape, dtype, device. Convert it to Numpy array “e”. \n"
      ]
    },
    {
      "cell_type": "code",
      "metadata": {
        "id": "cLOvK7mapC0H",
        "colab": {
          "base_uri": "https://localhost:8080/"
        },
        "outputId": "8508170a-8cff-4910-a4ad-40206fbef351"
      },
      "source": [
        "list_given = [2, 5, 8, 9]\n",
        "a=torch.tensor(list_given)\n",
        "print(a)"
      ],
      "execution_count": null,
      "outputs": [
        {
          "output_type": "stream",
          "text": [
            "tensor([2, 5, 8, 9])\n"
          ],
          "name": "stdout"
        }
      ]
    },
    {
      "cell_type": "code",
      "metadata": {
        "id": "mCLUVWarsxJa",
        "colab": {
          "base_uri": "https://localhost:8080/"
        },
        "outputId": "7622bff6-d24a-4293-96b5-905019414b42"
      },
      "source": [
        "print(a.shape)\n",
        "print(a.device)\n",
        "print(a.dtype)\n",
        "print(a.tolist() == list_given)\n",
        "print(a.grad)\n",
        "e = a.numpy()\n",
        "print(e)\n",
        "\n",
        "print(np.__version__)"
      ],
      "execution_count": null,
      "outputs": [
        {
          "output_type": "stream",
          "text": [
            "torch.Size([4])\n",
            "cpu\n",
            "torch.int64\n",
            "True\n",
            "None\n",
            "[2 5 8 9]\n",
            "1.19.5\n"
          ],
          "name": "stdout"
        }
      ]
    },
    {
      "cell_type": "markdown",
      "metadata": {
        "id": "iUDKczOZVJbN"
      },
      "source": [
        "Q2. Create a tensor “b” of size 4 * 5 initialized with all 0’s. Add 2 to “b”. Create another tensor “c” of the exact same as “b” initialized with all ones. Now create tensor “d = b + c”."
      ]
    },
    {
      "cell_type": "code",
      "metadata": {
        "id": "Z1VS_ed6s8k7",
        "colab": {
          "base_uri": "https://localhost:8080/"
        },
        "outputId": "6fb3f643-0c28-4ec3-9e51-03af6581f115"
      },
      "source": [
        "b = torch.zeros((4, 5))\n",
        "b = b + 2\n",
        "print(\"Shape of b \", b.shape)\n",
        "print(\"Printing actual b \\n\", b)"
      ],
      "execution_count": null,
      "outputs": [
        {
          "output_type": "stream",
          "text": [
            "Shape of b  torch.Size([4, 5])\n",
            "Printing actual b \n",
            " tensor([[2., 2., 2., 2., 2.],\n",
            "        [2., 2., 2., 2., 2.],\n",
            "        [2., 2., 2., 2., 2.],\n",
            "        [2., 2., 2., 2., 2.]])\n"
          ],
          "name": "stdout"
        }
      ]
    },
    {
      "cell_type": "code",
      "metadata": {
        "id": "artoyXDCuLIh",
        "colab": {
          "base_uri": "https://localhost:8080/"
        },
        "outputId": "51d59989-e6a9-4637-f74b-e309461a4a6e"
      },
      "source": [
        "c = torch.ones_like(b)\n",
        "print(\"Print actual c \\n\", c)\n",
        "\n",
        "d = b + c\n",
        "print(\"Shape of d \", d.shape, \"Actual d = \\n\", d)"
      ],
      "execution_count": null,
      "outputs": [
        {
          "output_type": "stream",
          "text": [
            "Print actual c \n",
            " tensor([[1., 1., 1., 1., 1.],\n",
            "        [1., 1., 1., 1., 1.],\n",
            "        [1., 1., 1., 1., 1.],\n",
            "        [1., 1., 1., 1., 1.]])\n",
            "Shape of d  torch.Size([4, 5]) Actual d = \n",
            " tensor([[3., 3., 3., 3., 3.],\n",
            "        [3., 3., 3., 3., 3.],\n",
            "        [3., 3., 3., 3., 3.],\n",
            "        [3., 3., 3., 3., 3.]])\n"
          ],
          "name": "stdout"
        }
      ]
    },
    {
      "cell_type": "markdown",
      "metadata": {
        "id": "pa2A2x8XVSa0"
      },
      "source": [
        "Q3. Create a Numpy array “f” of size 5 * 4 initialized with random numbers. Convert it to tensor “g”. Create “h” similar to “f” with random numbers. Transpose “h” and do matrix multiplication of “g” and “h”."
      ]
    },
    {
      "cell_type": "code",
      "metadata": {
        "id": "ZRv-YJcHqyv2",
        "colab": {
          "base_uri": "https://localhost:8080/"
        },
        "outputId": "ca85a32b-b758-455b-edca-46f44b84bb0a"
      },
      "source": [
        "f = np.random.randn(20).reshape((5, 4))\n",
        "print(\"Shape of f = \", f.shape)\n",
        "print(\"Printing array f \\n\", f)\n",
        "\n",
        "g = torch.from_numpy(f)\n",
        "print(\"Printing g \\n\", g)\n",
        "\n",
        "h = torch.randn_like(g)\n",
        "print(\"Printing h \\n\", h)\n",
        "\n",
        "print(\"Multiplying g and h \\n\", torch.matmul(g, h.T))"
      ],
      "execution_count": null,
      "outputs": [
        {
          "output_type": "stream",
          "text": [
            "Shape of f =  (5, 4)\n",
            "Printing array f \n",
            " [[ 1.53262345 -0.64728497  1.49360393 -2.12937937]\n",
            " [ 1.56898972 -0.02646134 -0.20281344  0.867338  ]\n",
            " [ 0.26597253 -0.53906741 -0.92013864 -1.61865387]\n",
            " [ 0.23030855 -1.28233588 -0.18824608  1.01269499]\n",
            " [ 1.30911534  0.99160655  1.2125613   0.42022532]]\n",
            "Printing g \n",
            " tensor([[ 1.5326, -0.6473,  1.4936, -2.1294],\n",
            "        [ 1.5690, -0.0265, -0.2028,  0.8673],\n",
            "        [ 0.2660, -0.5391, -0.9201, -1.6187],\n",
            "        [ 0.2303, -1.2823, -0.1882,  1.0127],\n",
            "        [ 1.3091,  0.9916,  1.2126,  0.4202]], dtype=torch.float64)\n",
            "Printing h \n",
            " tensor([[ 0.9730, -0.6873,  0.2835,  0.2215],\n",
            "        [-0.3026, -0.5766, -0.9679,  1.4359],\n",
            "        [-1.0818, -0.0343,  0.1551,  0.4611],\n",
            "        [-0.4587, -0.0604,  1.0822, -0.7034],\n",
            "        [-0.8493,  0.1095, -0.2730,  0.7502]], dtype=torch.float64)\n",
            "Multiplying g and h \n",
            " tensor([[ 1.8879, -4.5938, -2.3859,  2.4504, -3.3778],\n",
            "        [ 1.6793,  0.9821, -1.3281, -1.5477, -0.6294],\n",
            "        [ 0.0100, -1.2033, -1.1583,  0.0534, -1.2480],\n",
            "        [ 1.2763,  2.3059,  0.2326, -0.9443,  0.4751],\n",
            "        [ 1.0290, -1.5381, -1.0685,  0.3563, -1.0191]], dtype=torch.float64)\n"
          ],
          "name": "stdout"
        }
      ]
    },
    {
      "cell_type": "markdown",
      "metadata": {
        "id": "3OGOS7DnzlT3"
      },
      "source": [
        "Q4. Deep Learning is based on artificial neural networks which are typically built with units called \"neurons”. Each neuron has some number of weighted inputs. These weighted inputs are summed together then passed through an activation function to get the unit's output.\n",
        "\t\n",
        "1. Define a 1-D tensor “X” containing numbers from 1 to 5.\n",
        "2. Define a 1-D tensor “W1” containing 5 random weights.\n",
        "3. Define a tensor “b” contained 1 random weight.\n",
        "4. Compute tensor “H = X * W1 + b” using pytorch. (Note the shape of tensors)\n",
        "5. Apply sigmoid activation function to calculate the “Y”, such that “Y = 1 / (1 + exp(-H))”\n",
        "\n"
      ]
    },
    {
      "cell_type": "code",
      "metadata": {
        "id": "oBCEPd-kuN7m",
        "colab": {
          "base_uri": "https://localhost:8080/"
        },
        "outputId": "2438670a-3ea3-4cf3-e551-b5136a362725"
      },
      "source": [
        "a.to(torch.device('cpu:0'))"
      ],
      "execution_count": null,
      "outputs": [
        {
          "output_type": "execute_result",
          "data": {
            "text/plain": [
              "tensor([2, 5, 8, 9])"
            ]
          },
          "metadata": {
            "tags": []
          },
          "execution_count": 51
        }
      ]
    },
    {
      "cell_type": "code",
      "metadata": {
        "id": "2MSwTlOB7oub",
        "colab": {
          "base_uri": "https://localhost:8080/"
        },
        "outputId": "b2555a03-64f1-4b11-e280-b4e0e59fadc9"
      },
      "source": [
        "X=torch.tensor([1, 2, 3, 4, 5], dtype=torch.float32)\n",
        "print(\"Tensor X = \", X)\n",
        "W1=torch.randn(5, dtype=torch.float32)\n",
        "print(\"Tensor W1 = \", W1)\n",
        "b = torch.randn(1, dtype=torch.float32)\n",
        "print(\"Tensor b = \", b)\n",
        "H = torch.matmul(X, W1) + b\n",
        "print(\"Tensor H = \", H)\n",
        "Y = torch.sigmoid(H)\n",
        "print(\"Tensor Y = \", Y)"
      ],
      "execution_count": null,
      "outputs": [
        {
          "output_type": "stream",
          "text": [
            "Tensor X =  tensor([1., 2., 3., 4., 5.])\n",
            "Tensor W1 =  tensor([ 1.6065,  0.6993, -0.7150,  0.8269, -0.7985])\n",
            "Tensor b =  tensor([-1.5055])\n",
            "Tensor H =  tensor([-1.3307])\n",
            "Tensor Y =  tensor([0.2090])\n"
          ],
          "name": "stdout"
        }
      ]
    },
    {
      "cell_type": "markdown",
      "metadata": {
        "id": "4NeFRFfJtVAZ"
      },
      "source": [
        "**You have just coded to write a neuron !!**"
      ]
    },
    {
      "cell_type": "markdown",
      "metadata": {
        "id": "PZijA-qu8vqz"
      },
      "source": [
        "Q5. Adding multiple neurons in a single layer (3 Hidden Units)\n",
        "1. Define 2-D tensor “W2” containing random numbers of shape 5 * 3\n",
        "2. Define 1-D tensor of “b2” containing 3 random numbers.\n",
        "3. Compute tensor H2 = [h1 h2 h3] using the “H2 = X * W2 + b2” using pytorch\n",
        "4. Apply sigmoid activation function to calculate “Y2 = [y1 y2 y3]” such that “Y = 1 / (1 + exp(-H2)”\n"
      ]
    },
    {
      "cell_type": "code",
      "metadata": {
        "id": "xExsfWQQK6Yw",
        "colab": {
          "base_uri": "https://localhost:8080/"
        },
        "outputId": "f0accc33-bb74-418e-b030-bbcc8598db95"
      },
      "source": [
        "W2 = torch.randn((5, 3), dtype=torch.float32)\n",
        "print(\"W2 = \\n\", W2)\n",
        "b2 = torch.randn(3)\n",
        "print(\"b2 = \\n\", b2)\n",
        "H2 = torch.matmul(X, W2) + b2\n",
        "print(\"Tensor H = \", H2)\n",
        "Y2 = torch.sigmoid(H2)\n",
        "print(\"Tensor Y = \", Y2)"
      ],
      "execution_count": null,
      "outputs": [
        {
          "output_type": "stream",
          "text": [
            "W2 = \n",
            " tensor([[-0.0146, -1.7644, -0.4778],\n",
            "        [ 0.3517, -0.0078, -0.7240],\n",
            "        [ 0.1101,  1.7310,  0.0132],\n",
            "        [ 0.2437, -0.8797,  0.0214],\n",
            "        [ 0.6992, -0.3039, -0.9952]])\n",
            "b2 = \n",
            " tensor([-1.1887, -0.8404, -0.1619])\n",
            "Tensor H =  tensor([ 4.3015, -2.4655, -6.9385])\n",
            "Tensor Y =  tensor([9.8663e-01, 7.8312e-02, 9.6874e-04])\n"
          ],
          "name": "stdout"
        }
      ]
    },
    {
      "cell_type": "markdown",
      "metadata": {
        "id": "HYNx84SOtd-b"
      },
      "source": [
        "**Now there are 3 neurons outputs!!**"
      ]
    },
    {
      "cell_type": "markdown",
      "metadata": {
        "id": "k9ZvEMtpL96g"
      },
      "source": [
        "Q6.  Stacking one neuron on top of others. The real power of a neural network comes when we apply one function on top of others. ( 3 output units)\n",
        "1. Define 2-D tensor “W21” containing random numbers of shape 3 * 3\n",
        "2. Define 1-D tensor “b3” containing 3 random number\n",
        "3. Compute “H3 = W21 * Y2 + b”. Compute the expected shape of H3.\n",
        "4. Apply softmax pytorch activation function to H3.\n"
      ]
    },
    {
      "cell_type": "code",
      "metadata": {
        "id": "CGHA1vkXMFGj",
        "colab": {
          "base_uri": "https://localhost:8080/"
        },
        "outputId": "5d68c379-c820-422e-9001-ab9fd0716d00"
      },
      "source": [
        "W21 = torch.randn((3, 3), dtype=torch.float32)\n",
        "b3 = torch.randn(3, dtype=torch.float32)\n",
        "\n",
        "H3 = torch.matmul(Y2, W21) + b3\n",
        "\n",
        "m1 = torch.nn.Softmax(dim=0)\n",
        "\n",
        "Y3 = m1(H3)\n",
        "\n",
        "print(\"Y3 obtained after softmax =\", Y3)"
      ],
      "execution_count": null,
      "outputs": [
        {
          "output_type": "stream",
          "text": [
            "Y3 obtained after softmax = tensor([0.1032, 0.5329, 0.3640])\n"
          ],
          "name": "stdout"
        }
      ]
    },
    {
      "cell_type": "markdown",
      "metadata": {
        "id": "x7gabQ3DthF8"
      },
      "source": [
        "**Now you have a neural network taking 5 inputs and giving 3 outputs and having 1 hidden layer!!**"
      ]
    }
  ]
}